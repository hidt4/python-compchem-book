{
  "cells": [
    {
      "cell_type": "markdown",
      "metadata": {
        "id": "view-in-github",
        "colab_type": "text"
      },
      "source": [
        "<a href=\"https://colab.research.google.com/github/hidt4/python-compchem-book/blob/main/compchem_book_ch04.ipynb\" target=\"_parent\"><img src=\"https://colab.research.google.com/assets/colab-badge.svg\" alt=\"Open In Colab\"/></a>"
      ]
    },
    {
      "cell_type": "markdown",
      "metadata": {
        "id": "FPQXN4CCmSzY"
      },
      "source": [
        "## 4章 分子をコンピュータで扱う方法について知ろう"
      ]
    },
    {
      "cell_type": "markdown",
      "metadata": {
        "id": "T8MXP5AhPSZR"
      },
      "source": [
        "### 環境構築"
      ]
    },
    {
      "cell_type": "markdown",
      "source": [
        "#### Google Colab上にPsi4をインストール\n",
        "2023年8月時点では問題なく動作していましたが\n",
        "今後のColabの開発動向次第では動作しなくなる可能性があります"
      ],
      "metadata": {
        "id": "6bh9anTCZFd0"
      }
    },
    {
      "cell_type": "code",
      "execution_count": null,
      "metadata": {
        "colab": {
          "base_uri": "https://localhost:8080/"
        },
        "id": "lIYdn1woOS1n",
        "outputId": "9e7278c2-8edc-489b-f43f-1b816a2a8aa8"
      },
      "outputs": [
        {
          "output_type": "stream",
          "name": "stdout",
          "text": [
            "--2023-07-05 06:14:33--  https://repo.continuum.io/miniconda/Miniconda3-latest-Linux-x86_64.sh\n",
            "Resolving repo.continuum.io (repo.continuum.io)... 104.18.201.79, 104.18.200.79, 2606:4700::6812:c94f, ...\n",
            "Connecting to repo.continuum.io (repo.continuum.io)|104.18.201.79|:443... connected.\n",
            "HTTP request sent, awaiting response... 301 Moved Permanently\n",
            "Location: https://repo.anaconda.com/miniconda/Miniconda3-latest-Linux-x86_64.sh [following]\n",
            "--2023-07-05 06:14:33--  https://repo.anaconda.com/miniconda/Miniconda3-latest-Linux-x86_64.sh\n",
            "Resolving repo.anaconda.com (repo.anaconda.com)... 104.16.130.3, 104.16.131.3, 2606:4700::6810:8303, ...\n",
            "Connecting to repo.anaconda.com (repo.anaconda.com)|104.16.130.3|:443... connected.\n",
            "HTTP request sent, awaiting response... 200 OK\n",
            "Length: 73134376 (70M) [application/x-sh]\n",
            "Saving to: ‘Miniconda3-latest-Linux-x86_64.sh’\n",
            "\n",
            "Miniconda3-latest-L 100%[===================>]  69.75M   328MB/s    in 0.2s    \n",
            "\n",
            "2023-07-05 06:14:34 (328 MB/s) - ‘Miniconda3-latest-Linux-x86_64.sh’ saved [73134376/73134376]\n",
            "\n",
            "PREFIX=/usr/local\n",
            "Unpacking payload ...\n",
            "                                                                                         \n",
            "Installing base environment...\n",
            "\n",
            "\n",
            "Downloading and Extracting Packages\n",
            "\n",
            "\n",
            "Downloading and Extracting Packages\n",
            "\n",
            "Preparing transaction: - \b\b\\ \b\b| \b\b/ \b\bdone\n",
            "Executing transaction: \\ \b\b| \b\b/ \b\b- \b\b\\ \b\b| \b\b/ \b\b- \b\b\\ \b\b| \b\b/ \b\b- \b\b\\ \b\b| \b\b/ \b\b- \b\b\\ \b\b| \b\b/ \b\b- \b\b\\ \b\b| \b\b/ \b\b- \b\b\\ \b\bdone\n",
            "installation finished.\n",
            "WARNING:\n",
            "    You currently have a PYTHONPATH environment variable set. This may cause\n",
            "    unexpected behavior when running the Python interpreter in Miniconda3.\n",
            "    For best results, please verify that your PYTHONPATH only points to\n",
            "    directories of packages that are compatible with the Python interpreter\n",
            "    in Miniconda3: /usr/local\n",
            "Collecting package metadata (current_repodata.json): ...working... done\n",
            "Solving environment: ...working... failed with initial frozen solve. Retrying with flexible solve.\n",
            "Solving environment: ...working... failed with repodata from current_repodata.json, will retry with next repodata source.\n",
            "Collecting package metadata (repodata.json): ...working... done\n",
            "Solving environment: ...working... done\n",
            "\n",
            "## Package Plan ##\n",
            "\n",
            "  environment location: /usr/local\n",
            "\n",
            "  added / updated specs:\n",
            "    - psi4\n",
            "    - python=3.10\n",
            "\n",
            "\n",
            "The following packages will be downloaded:\n",
            "\n",
            "    package                    |            build\n",
            "    ---------------------------|-----------------\n",
            "    ambit-0.6                  |  py310h53dec33_2         715 KB  psi4\n",
            "    attrs-22.1.0               |  py310h06a4308_0          86 KB\n",
            "    blas-1.0                   |              mkl           6 KB\n",
            "    ca-certificates-2023.05.30 |       h06a4308_0         120 KB\n",
            "    certifi-2023.5.7           |  py310h06a4308_0         152 KB\n",
            "    chemps2-1.8.11             |       hbe8a562_0         2.4 MB  psi4\n",
            "    conda-23.5.0               |  py310h06a4308_0         1.0 MB\n",
            "    dftd3-3.2.1                |       h84218bc_2         2.0 MB  psi4\n",
            "    dkh-1.2                    |       h173d85e_2         407 KB  psi4\n",
            "    exceptiongroup-1.0.4       |  py310h06a4308_0          28 KB\n",
            "    gau2grid-2.0.7             |       hd18ef5c_0         1.2 MB  psi4\n",
            "    gcp-2.0.2                  |       he991be0_2         605 KB  psi4\n",
            "    gdma-2.2.6                 |       h0e1e685_6         762 KB  psi4\n",
            "    hdf5-1.10.6                |       hb1b8bf9_0         3.7 MB\n",
            "    importlib-metadata-6.0.0   |  py310h06a4308_0          39 KB\n",
            "    importlib_metadata-6.0.0   |       hd3eb1b0_0           8 KB\n",
            "    importlib_resources-5.2.0  |     pyhd3eb1b0_1          21 KB\n",
            "    iniconfig-1.1.1            |     pyhd3eb1b0_0           8 KB\n",
            "    intel-openmp-2021.4.0      |    h06a4308_3561         4.2 MB\n",
            "    libecpint-1.0.7            |       hfebba4c_0         1.4 MB  psi4\n",
            "    libgfortran-ng-7.5.0       |      ha8ba4b0_17          22 KB\n",
            "    libgfortran4-7.5.0         |      ha8ba4b0_17         995 KB\n",
            "    libint2-2.7.1              |      h2fe1556_15       279.3 MB  psi4\n",
            "    libxc-5.2.3                |       hfebba4c_0         7.5 MB  psi4\n",
            "    mkl-2021.4.0               |     h06a4308_640       142.6 MB\n",
            "    mkl-service-2.4.0          |  py310h7f8727e_0         177 KB\n",
            "    mkl_fft-1.3.1              |  py310hd6ae3a3_0         567 KB\n",
            "    mkl_random-1.2.2           |  py310h00e6091_0        1009 KB\n",
            "    msgpack-python-1.0.3       |  py310hd09550d_0         218 KB\n",
            "    networkx-2.8.4             |  py310h06a4308_1         2.7 MB\n",
            "    numpy-1.22.3               |  py310hfa59a62_0          10 KB\n",
            "    numpy-base-1.22.3          |  py310h9585f30_0        11.8 MB\n",
            "    openssl-1.1.1u             |       h7f8727e_0         3.7 MB\n",
            "    optking-0.2.1              |     pyhbc12335_1         124 KB  psi4\n",
            "    pcmsolver-1.2.1.1          |  py310h92d4acf_3         679 KB  psi4\n",
            "    pint-0.17                  |     pyhd8ed1ab_0         168 KB  psi4\n",
            "    psi4-1.7+6ce35a5           |  py310h769327c_1        49.5 MB  psi4\n",
            "    psutil-5.9.0               |  py310h5eee18b_0         368 KB\n",
            "    py-cpuinfo-8.0.0           |     pyhd3eb1b0_1          23 KB\n",
            "    pydantic-1.10.8            |  py310h5eee18b_0         2.3 MB\n",
            "    pytest-7.3.1               |  py310h06a4308_0         524 KB\n",
            "    pyyaml-6.0                 |  py310h5eee18b_1         178 KB\n",
            "    qcelemental-0.25.1         |     pyhd8ed1ab_1         242 KB  psi4\n",
            "    qcengine-0.26.0            |     pyhd8ed1ab_0         225 KB  psi4\n",
            "    scipy-1.7.3                |  py310hfa59a62_0        43.6 MB\n",
            "    simint-0.7                 |       h642920c_1         9.6 MB  psi4\n",
            "    tomli-2.0.1                |  py310h06a4308_0          24 KB\n",
            "    typing-extensions-4.6.3    |  py310h06a4308_0           9 KB\n",
            "    typing_extensions-4.6.3    |  py310h06a4308_0          53 KB\n",
            "    yaml-0.2.5                 |       h7b6447c_0          75 KB\n",
            "    zipp-3.11.0                |  py310h06a4308_0          19 KB\n",
            "    ------------------------------------------------------------\n",
            "                                           Total:       576.6 MB\n",
            "\n",
            "The following NEW packages will be INSTALLED:\n",
            "\n",
            "  ambit              psi4/linux-64::ambit-0.6-py310h53dec33_2 \n",
            "  attrs              pkgs/main/linux-64::attrs-22.1.0-py310h06a4308_0 \n",
            "  blas               pkgs/main/linux-64::blas-1.0-mkl \n",
            "  chemps2            psi4/linux-64::chemps2-1.8.11-hbe8a562_0 \n",
            "  dftd3              psi4/linux-64::dftd3-3.2.1-h84218bc_2 \n",
            "  dkh                psi4/linux-64::dkh-1.2-h173d85e_2 \n",
            "  exceptiongroup     pkgs/main/linux-64::exceptiongroup-1.0.4-py310h06a4308_0 \n",
            "  gau2grid           psi4/linux-64::gau2grid-2.0.7-hd18ef5c_0 \n",
            "  gcp                psi4/linux-64::gcp-2.0.2-he991be0_2 \n",
            "  gdma               psi4/linux-64::gdma-2.2.6-h0e1e685_6 \n",
            "  hdf5               pkgs/main/linux-64::hdf5-1.10.6-hb1b8bf9_0 \n",
            "  importlib-metadata pkgs/main/linux-64::importlib-metadata-6.0.0-py310h06a4308_0 \n",
            "  importlib_metadata pkgs/main/noarch::importlib_metadata-6.0.0-hd3eb1b0_0 \n",
            "  importlib_resourc~ pkgs/main/noarch::importlib_resources-5.2.0-pyhd3eb1b0_1 \n",
            "  iniconfig          pkgs/main/noarch::iniconfig-1.1.1-pyhd3eb1b0_0 \n",
            "  intel-openmp       pkgs/main/linux-64::intel-openmp-2021.4.0-h06a4308_3561 \n",
            "  libecpint          psi4/linux-64::libecpint-1.0.7-hfebba4c_0 \n",
            "  libgfortran-ng     pkgs/main/linux-64::libgfortran-ng-7.5.0-ha8ba4b0_17 \n",
            "  libgfortran4       pkgs/main/linux-64::libgfortran4-7.5.0-ha8ba4b0_17 \n",
            "  libint2            psi4/linux-64::libint2-2.7.1-h2fe1556_15 \n",
            "  libxc              psi4/linux-64::libxc-5.2.3-hfebba4c_0 \n",
            "  mkl                pkgs/main/linux-64::mkl-2021.4.0-h06a4308_640 \n",
            "  mkl-service        pkgs/main/linux-64::mkl-service-2.4.0-py310h7f8727e_0 \n",
            "  mkl_fft            pkgs/main/linux-64::mkl_fft-1.3.1-py310hd6ae3a3_0 \n",
            "  mkl_random         pkgs/main/linux-64::mkl_random-1.2.2-py310h00e6091_0 \n",
            "  msgpack-python     pkgs/main/linux-64::msgpack-python-1.0.3-py310hd09550d_0 \n",
            "  networkx           pkgs/main/linux-64::networkx-2.8.4-py310h06a4308_1 \n",
            "  numpy              pkgs/main/linux-64::numpy-1.22.3-py310hfa59a62_0 \n",
            "  numpy-base         pkgs/main/linux-64::numpy-base-1.22.3-py310h9585f30_0 \n",
            "  optking            psi4/noarch::optking-0.2.1-pyhbc12335_1 \n",
            "  pcmsolver          psi4/linux-64::pcmsolver-1.2.1.1-py310h92d4acf_3 \n",
            "  pint               psi4/noarch::pint-0.17-pyhd8ed1ab_0 \n",
            "  psi4               psi4/linux-64::psi4-1.7+6ce35a5-py310h769327c_1 \n",
            "  psutil             pkgs/main/linux-64::psutil-5.9.0-py310h5eee18b_0 \n",
            "  py-cpuinfo         pkgs/main/noarch::py-cpuinfo-8.0.0-pyhd3eb1b0_1 \n",
            "  pydantic           pkgs/main/linux-64::pydantic-1.10.8-py310h5eee18b_0 \n",
            "  pytest             pkgs/main/linux-64::pytest-7.3.1-py310h06a4308_0 \n",
            "  pyyaml             pkgs/main/linux-64::pyyaml-6.0-py310h5eee18b_1 \n",
            "  qcelemental        psi4/noarch::qcelemental-0.25.1-pyhd8ed1ab_1 \n",
            "  qcengine           psi4/noarch::qcengine-0.26.0-pyhd8ed1ab_0 \n",
            "  scipy              pkgs/main/linux-64::scipy-1.7.3-py310hfa59a62_0 \n",
            "  simint             psi4/linux-64::simint-0.7-h642920c_1 \n",
            "  tomli              pkgs/main/linux-64::tomli-2.0.1-py310h06a4308_0 \n",
            "  typing-extensions  pkgs/main/linux-64::typing-extensions-4.6.3-py310h06a4308_0 \n",
            "  typing_extensions  pkgs/main/linux-64::typing_extensions-4.6.3-py310h06a4308_0 \n",
            "  yaml               pkgs/main/linux-64::yaml-0.2.5-h7b6447c_0 \n",
            "  zipp               pkgs/main/linux-64::zipp-3.11.0-py310h06a4308_0 \n",
            "\n",
            "The following packages will be UPDATED:\n",
            "\n",
            "  ca-certificates                     2023.01.10-h06a4308_0 --> 2023.05.30-h06a4308_0 \n",
            "  certifi                         2022.12.7-py310h06a4308_0 --> 2023.5.7-py310h06a4308_0 \n",
            "  conda                              23.3.1-py310h06a4308_0 --> 23.5.0-py310h06a4308_0 \n",
            "  openssl                                 1.1.1t-h7f8727e_0 --> 1.1.1u-h7f8727e_0 \n",
            "\n",
            "\n",
            "Preparing transaction: ...working... done\n",
            "Verifying transaction: ...working... done\n",
            "Executing transaction: ...working... done\n"
          ]
        }
      ],
      "source": [
        "!wget -c https://repo.continuum.io/miniconda/Miniconda3-latest-Linux-x86_64.sh\n",
        "!chmod +x Miniconda3-latest-Linux-x86_64.sh\n",
        "!bash ./Miniconda3-latest-Linux-x86_64.sh -b -f -p /usr/local\n",
        "!conda install -q -y -c psi4 psi4 python=3.10\n",
        "import sys\n",
        "sys.path.append('/usr/local/lib/python3.10/site-packages')"
      ]
    },
    {
      "cell_type": "code",
      "execution_count": null,
      "metadata": {
        "colab": {
          "base_uri": "https://localhost:8080/"
        },
        "id": "MvlkWMLEIwia",
        "outputId": "17eea069-9dfc-42a6-c2f9-c5cec305c80c"
      },
      "outputs": [
        {
          "output_type": "stream",
          "name": "stdout",
          "text": [
            "current time: 2023-07-05 06:17:11.844416\n",
            "python version:\n",
            "3.10.12 (main, Jun  7 2023, 12:45:35) [GCC 9.4.0]\n",
            "numpy version: 1.22.4\n",
            "pandas version: 1.5.3\n",
            "psi4 version: 1.7\n"
          ]
        }
      ],
      "source": [
        "import os\n",
        "import datetime\n",
        "import numpy as np\n",
        "import pandas as pd\n",
        "import psi4\n",
        "\n",
        "print(f'current time: {datetime.datetime.now()}')\n",
        "print(f'python version:\\n{sys.version}')\n",
        "print(f'numpy version: {np.__version__}')\n",
        "print(f'pandas version: {pd.__version__}')\n",
        "print(f'psi4 version: {psi4.__version__}')"
      ]
    },
    {
      "cell_type": "markdown",
      "metadata": {
        "id": "ncq90scdO4Oe"
      },
      "source": [
        "#### 計算資源の設定"
      ]
    },
    {
      "cell_type": "code",
      "execution_count": null,
      "metadata": {
        "colab": {
          "base_uri": "https://localhost:8080/"
        },
        "id": "9v7h2D3o2lbS",
        "outputId": "0a929ef4-c3a1-4822-de63-7791240fec5a"
      },
      "outputs": [
        {
          "output_type": "stream",
          "name": "stdout",
          "text": [
            "processor\t: 0\n",
            "vendor_id\t: GenuineIntel\n",
            "cpu family\t: 6\n",
            "model\t\t: 79\n",
            "model name\t: Intel(R) Xeon(R) CPU @ 2.20GHz\n",
            "stepping\t: 0\n",
            "microcode\t: 0xffffffff\n",
            "cpu MHz\t\t: 2199.998\n",
            "cache size\t: 56320 KB\n",
            "physical id\t: 0\n",
            "siblings\t: 8\n",
            "core id\t\t: 0\n",
            "cpu cores\t: 4\n",
            "apicid\t\t: 0\n",
            "initial apicid\t: 0\n",
            "fpu\t\t: yes\n",
            "fpu_exception\t: yes\n",
            "cpuid level\t: 13\n",
            "wp\t\t: yes\n",
            "flags\t\t: fpu vme de pse tsc msr pae mce cx8 apic sep mtrr pge mca cmov pat pse36 clflush mmx fxsr sse sse2 ss ht syscall nx pdpe1gb rdtscp lm constant_tsc rep_good nopl xtopology nonstop_tsc cpuid tsc_known_freq pni pclmulqdq ssse3 fma cx16 pcid sse4_1 sse4_2 x2apic movbe popcnt aes xsave avx f16c rdrand hypervisor lahf_lm abm 3dnowprefetch invpcid_single ssbd ibrs ibpb stibp fsgsbase tsc_adjust bmi1 hle avx2 smep bmi2 erms invpcid rtm rdseed adx smap xsaveopt arat md_clear arch_capabilities\n",
            "bugs\t\t: cpu_meltdown spectre_v1 spectre_v2 spec_store_bypass l1tf mds swapgs taa mmio_stale_data retbleed\n",
            "bogomips\t: 4399.99\n",
            "clflush size\t: 64\n",
            "cache_alignment\t: 64\n",
            "address sizes\t: 46 bits physical, 48 bits virtual\n",
            "power management:\n",
            "\n",
            "processor\t: 1\n",
            "vendor_id\t: GenuineIntel\n",
            "cpu family\t: 6\n",
            "model\t\t: 79\n",
            "model name\t: Intel(R) Xeon(R) CPU @ 2.20GHz\n",
            "stepping\t: 0\n",
            "microcode\t: 0xffffffff\n",
            "cpu MHz\t\t: 2199.998\n",
            "cache size\t: 56320 KB\n",
            "physical id\t: 0\n",
            "siblings\t: 8\n",
            "core id\t\t: 1\n",
            "cpu cores\t: 4\n",
            "apicid\t\t: 2\n",
            "initial apicid\t: 2\n",
            "fpu\t\t: yes\n",
            "fpu_exception\t: yes\n",
            "cpuid level\t: 13\n",
            "wp\t\t: yes\n",
            "flags\t\t: fpu vme de pse tsc msr pae mce cx8 apic sep mtrr pge mca cmov pat pse36 clflush mmx fxsr sse sse2 ss ht syscall nx pdpe1gb rdtscp lm constant_tsc rep_good nopl xtopology nonstop_tsc cpuid tsc_known_freq pni pclmulqdq ssse3 fma cx16 pcid sse4_1 sse4_2 x2apic movbe popcnt aes xsave avx f16c rdrand hypervisor lahf_lm abm 3dnowprefetch invpcid_single ssbd ibrs ibpb stibp fsgsbase tsc_adjust bmi1 hle avx2 smep bmi2 erms invpcid rtm rdseed adx smap xsaveopt arat md_clear arch_capabilities\n",
            "bugs\t\t: cpu_meltdown spectre_v1 spectre_v2 spec_store_bypass l1tf mds swapgs taa mmio_stale_data retbleed\n",
            "bogomips\t: 4399.99\n",
            "clflush size\t: 64\n",
            "cache_alignment\t: 64\n",
            "address sizes\t: 46 bits physical, 48 bits virtual\n",
            "power management:\n",
            "\n",
            "processor\t: 2\n",
            "vendor_id\t: GenuineIntel\n",
            "cpu family\t: 6\n",
            "model\t\t: 79\n",
            "model name\t: Intel(R) Xeon(R) CPU @ 2.20GHz\n",
            "stepping\t: 0\n",
            "microcode\t: 0xffffffff\n",
            "cpu MHz\t\t: 2199.998\n",
            "cache size\t: 56320 KB\n",
            "physical id\t: 0\n",
            "siblings\t: 8\n",
            "core id\t\t: 2\n",
            "cpu cores\t: 4\n",
            "apicid\t\t: 4\n",
            "initial apicid\t: 4\n",
            "fpu\t\t: yes\n",
            "fpu_exception\t: yes\n",
            "cpuid level\t: 13\n",
            "wp\t\t: yes\n",
            "flags\t\t: fpu vme de pse tsc msr pae mce cx8 apic sep mtrr pge mca cmov pat pse36 clflush mmx fxsr sse sse2 ss ht syscall nx pdpe1gb rdtscp lm constant_tsc rep_good nopl xtopology nonstop_tsc cpuid tsc_known_freq pni pclmulqdq ssse3 fma cx16 pcid sse4_1 sse4_2 x2apic movbe popcnt aes xsave avx f16c rdrand hypervisor lahf_lm abm 3dnowprefetch invpcid_single ssbd ibrs ibpb stibp fsgsbase tsc_adjust bmi1 hle avx2 smep bmi2 erms invpcid rtm rdseed adx smap xsaveopt arat md_clear arch_capabilities\n",
            "bugs\t\t: cpu_meltdown spectre_v1 spectre_v2 spec_store_bypass l1tf mds swapgs taa mmio_stale_data retbleed\n",
            "bogomips\t: 4399.99\n",
            "clflush size\t: 64\n",
            "cache_alignment\t: 64\n",
            "address sizes\t: 46 bits physical, 48 bits virtual\n",
            "power management:\n",
            "\n",
            "processor\t: 3\n",
            "vendor_id\t: GenuineIntel\n",
            "cpu family\t: 6\n",
            "model\t\t: 79\n",
            "model name\t: Intel(R) Xeon(R) CPU @ 2.20GHz\n",
            "stepping\t: 0\n",
            "microcode\t: 0xffffffff\n",
            "cpu MHz\t\t: 2199.998\n",
            "cache size\t: 56320 KB\n",
            "physical id\t: 0\n",
            "siblings\t: 8\n",
            "core id\t\t: 3\n",
            "cpu cores\t: 4\n",
            "apicid\t\t: 6\n",
            "initial apicid\t: 6\n",
            "fpu\t\t: yes\n",
            "fpu_exception\t: yes\n",
            "cpuid level\t: 13\n",
            "wp\t\t: yes\n",
            "flags\t\t: fpu vme de pse tsc msr pae mce cx8 apic sep mtrr pge mca cmov pat pse36 clflush mmx fxsr sse sse2 ss ht syscall nx pdpe1gb rdtscp lm constant_tsc rep_good nopl xtopology nonstop_tsc cpuid tsc_known_freq pni pclmulqdq ssse3 fma cx16 pcid sse4_1 sse4_2 x2apic movbe popcnt aes xsave avx f16c rdrand hypervisor lahf_lm abm 3dnowprefetch invpcid_single ssbd ibrs ibpb stibp fsgsbase tsc_adjust bmi1 hle avx2 smep bmi2 erms invpcid rtm rdseed adx smap xsaveopt arat md_clear arch_capabilities\n",
            "bugs\t\t: cpu_meltdown spectre_v1 spectre_v2 spec_store_bypass l1tf mds swapgs taa mmio_stale_data retbleed\n",
            "bogomips\t: 4399.99\n",
            "clflush size\t: 64\n",
            "cache_alignment\t: 64\n",
            "address sizes\t: 46 bits physical, 48 bits virtual\n",
            "power management:\n",
            "\n",
            "processor\t: 4\n",
            "vendor_id\t: GenuineIntel\n",
            "cpu family\t: 6\n",
            "model\t\t: 79\n",
            "model name\t: Intel(R) Xeon(R) CPU @ 2.20GHz\n",
            "stepping\t: 0\n",
            "microcode\t: 0xffffffff\n",
            "cpu MHz\t\t: 2199.998\n",
            "cache size\t: 56320 KB\n",
            "physical id\t: 0\n",
            "siblings\t: 8\n",
            "core id\t\t: 0\n",
            "cpu cores\t: 4\n",
            "apicid\t\t: 1\n",
            "initial apicid\t: 1\n",
            "fpu\t\t: yes\n",
            "fpu_exception\t: yes\n",
            "cpuid level\t: 13\n",
            "wp\t\t: yes\n",
            "flags\t\t: fpu vme de pse tsc msr pae mce cx8 apic sep mtrr pge mca cmov pat pse36 clflush mmx fxsr sse sse2 ss ht syscall nx pdpe1gb rdtscp lm constant_tsc rep_good nopl xtopology nonstop_tsc cpuid tsc_known_freq pni pclmulqdq ssse3 fma cx16 pcid sse4_1 sse4_2 x2apic movbe popcnt aes xsave avx f16c rdrand hypervisor lahf_lm abm 3dnowprefetch invpcid_single ssbd ibrs ibpb stibp fsgsbase tsc_adjust bmi1 hle avx2 smep bmi2 erms invpcid rtm rdseed adx smap xsaveopt arat md_clear arch_capabilities\n",
            "bugs\t\t: cpu_meltdown spectre_v1 spectre_v2 spec_store_bypass l1tf mds swapgs taa mmio_stale_data retbleed\n",
            "bogomips\t: 4399.99\n",
            "clflush size\t: 64\n",
            "cache_alignment\t: 64\n",
            "address sizes\t: 46 bits physical, 48 bits virtual\n",
            "power management:\n",
            "\n",
            "processor\t: 5\n",
            "vendor_id\t: GenuineIntel\n",
            "cpu family\t: 6\n",
            "model\t\t: 79\n",
            "model name\t: Intel(R) Xeon(R) CPU @ 2.20GHz\n",
            "stepping\t: 0\n",
            "microcode\t: 0xffffffff\n",
            "cpu MHz\t\t: 2199.998\n",
            "cache size\t: 56320 KB\n",
            "physical id\t: 0\n",
            "siblings\t: 8\n",
            "core id\t\t: 1\n",
            "cpu cores\t: 4\n",
            "apicid\t\t: 3\n",
            "initial apicid\t: 3\n",
            "fpu\t\t: yes\n",
            "fpu_exception\t: yes\n",
            "cpuid level\t: 13\n",
            "wp\t\t: yes\n",
            "flags\t\t: fpu vme de pse tsc msr pae mce cx8 apic sep mtrr pge mca cmov pat pse36 clflush mmx fxsr sse sse2 ss ht syscall nx pdpe1gb rdtscp lm constant_tsc rep_good nopl xtopology nonstop_tsc cpuid tsc_known_freq pni pclmulqdq ssse3 fma cx16 pcid sse4_1 sse4_2 x2apic movbe popcnt aes xsave avx f16c rdrand hypervisor lahf_lm abm 3dnowprefetch invpcid_single ssbd ibrs ibpb stibp fsgsbase tsc_adjust bmi1 hle avx2 smep bmi2 erms invpcid rtm rdseed adx smap xsaveopt arat md_clear arch_capabilities\n",
            "bugs\t\t: cpu_meltdown spectre_v1 spectre_v2 spec_store_bypass l1tf mds swapgs taa mmio_stale_data retbleed\n",
            "bogomips\t: 4399.99\n",
            "clflush size\t: 64\n",
            "cache_alignment\t: 64\n",
            "address sizes\t: 46 bits physical, 48 bits virtual\n",
            "power management:\n",
            "\n",
            "processor\t: 6\n",
            "vendor_id\t: GenuineIntel\n",
            "cpu family\t: 6\n",
            "model\t\t: 79\n",
            "model name\t: Intel(R) Xeon(R) CPU @ 2.20GHz\n",
            "stepping\t: 0\n",
            "microcode\t: 0xffffffff\n",
            "cpu MHz\t\t: 2199.998\n",
            "cache size\t: 56320 KB\n",
            "physical id\t: 0\n",
            "siblings\t: 8\n",
            "core id\t\t: 2\n",
            "cpu cores\t: 4\n",
            "apicid\t\t: 5\n",
            "initial apicid\t: 5\n",
            "fpu\t\t: yes\n",
            "fpu_exception\t: yes\n",
            "cpuid level\t: 13\n",
            "wp\t\t: yes\n",
            "flags\t\t: fpu vme de pse tsc msr pae mce cx8 apic sep mtrr pge mca cmov pat pse36 clflush mmx fxsr sse sse2 ss ht syscall nx pdpe1gb rdtscp lm constant_tsc rep_good nopl xtopology nonstop_tsc cpuid tsc_known_freq pni pclmulqdq ssse3 fma cx16 pcid sse4_1 sse4_2 x2apic movbe popcnt aes xsave avx f16c rdrand hypervisor lahf_lm abm 3dnowprefetch invpcid_single ssbd ibrs ibpb stibp fsgsbase tsc_adjust bmi1 hle avx2 smep bmi2 erms invpcid rtm rdseed adx smap xsaveopt arat md_clear arch_capabilities\n",
            "bugs\t\t: cpu_meltdown spectre_v1 spectre_v2 spec_store_bypass l1tf mds swapgs taa mmio_stale_data retbleed\n",
            "bogomips\t: 4399.99\n",
            "clflush size\t: 64\n",
            "cache_alignment\t: 64\n",
            "address sizes\t: 46 bits physical, 48 bits virtual\n",
            "power management:\n",
            "\n",
            "processor\t: 7\n",
            "vendor_id\t: GenuineIntel\n",
            "cpu family\t: 6\n",
            "model\t\t: 79\n",
            "model name\t: Intel(R) Xeon(R) CPU @ 2.20GHz\n",
            "stepping\t: 0\n",
            "microcode\t: 0xffffffff\n",
            "cpu MHz\t\t: 2199.998\n",
            "cache size\t: 56320 KB\n",
            "physical id\t: 0\n",
            "siblings\t: 8\n",
            "core id\t\t: 3\n",
            "cpu cores\t: 4\n",
            "apicid\t\t: 7\n",
            "initial apicid\t: 7\n",
            "fpu\t\t: yes\n",
            "fpu_exception\t: yes\n",
            "cpuid level\t: 13\n",
            "wp\t\t: yes\n",
            "flags\t\t: fpu vme de pse tsc msr pae mce cx8 apic sep mtrr pge mca cmov pat pse36 clflush mmx fxsr sse sse2 ss ht syscall nx pdpe1gb rdtscp lm constant_tsc rep_good nopl xtopology nonstop_tsc cpuid tsc_known_freq pni pclmulqdq ssse3 fma cx16 pcid sse4_1 sse4_2 x2apic movbe popcnt aes xsave avx f16c rdrand hypervisor lahf_lm abm 3dnowprefetch invpcid_single ssbd ibrs ibpb stibp fsgsbase tsc_adjust bmi1 hle avx2 smep bmi2 erms invpcid rtm rdseed adx smap xsaveopt arat md_clear arch_capabilities\n",
            "bugs\t\t: cpu_meltdown spectre_v1 spectre_v2 spec_store_bypass l1tf mds swapgs taa mmio_stale_data retbleed\n",
            "bogomips\t: 4399.99\n",
            "clflush size\t: 64\n",
            "cache_alignment\t: 64\n",
            "address sizes\t: 46 bits physical, 48 bits virtual\n",
            "power management:\n",
            "\n"
          ]
        }
      ],
      "source": [
        "# 計算資源の確認（CPU, RAM）\n",
        "!cat /proc/cpuinfo"
      ]
    },
    {
      "cell_type": "code",
      "execution_count": null,
      "metadata": {
        "colab": {
          "base_uri": "https://localhost:8080/"
        },
        "id": "wIJ-Gwl12lKV",
        "outputId": "334d6d41-5d11-46dd-e792-27135e430003"
      },
      "outputs": [
        {
          "output_type": "stream",
          "name": "stdout",
          "text": [
            "MemTotal:       53474568 kB\n",
            "MemFree:        41133904 kB\n",
            "MemAvailable:   51973024 kB\n",
            "Buffers:          209352 kB\n",
            "Cached:         10834048 kB\n",
            "SwapCached:            0 kB\n",
            "Active:          1198880 kB\n",
            "Inactive:       10403032 kB\n",
            "Active(anon):        952 kB\n",
            "Inactive(anon):   558824 kB\n",
            "Active(file):    1197928 kB\n",
            "Inactive(file):  9844208 kB\n",
            "Unevictable:           0 kB\n",
            "Mlocked:               0 kB\n",
            "SwapTotal:             0 kB\n",
            "SwapFree:              0 kB\n",
            "Dirty:            186688 kB\n",
            "Writeback:             0 kB\n",
            "AnonPages:        556352 kB\n",
            "Mapped:           449556 kB\n",
            "Shmem:              1264 kB\n",
            "KReclaimable:     425744 kB\n",
            "Slab:             505228 kB\n",
            "SReclaimable:     425744 kB\n",
            "SUnreclaim:        79484 kB\n",
            "KernelStack:        6400 kB\n",
            "PageTables:        11924 kB\n",
            "NFS_Unstable:          0 kB\n",
            "Bounce:                0 kB\n",
            "WritebackTmp:          0 kB\n",
            "CommitLimit:    26737284 kB\n",
            "Committed_AS:    2987596 kB\n",
            "VmallocTotal:   34359738367 kB\n",
            "VmallocUsed:       10336 kB\n",
            "VmallocChunk:          0 kB\n",
            "Percpu:             5280 kB\n",
            "HardwareCorrupted:     0 kB\n",
            "AnonHugePages:     14336 kB\n",
            "ShmemHugePages:        0 kB\n",
            "ShmemPmdMapped:        0 kB\n",
            "FileHugePages:         0 kB\n",
            "FilePmdMapped:         0 kB\n",
            "CmaTotal:              0 kB\n",
            "CmaFree:               0 kB\n",
            "HugePages_Total:       0\n",
            "HugePages_Free:        0\n",
            "HugePages_Rsvd:        0\n",
            "HugePages_Surp:        0\n",
            "Hugepagesize:       2048 kB\n",
            "Hugetlb:               0 kB\n",
            "DirectMap4k:       95032 kB\n",
            "DirectMap2M:     4096000 kB\n",
            "DirectMap1G:    52428800 kB\n"
          ]
        }
      ],
      "source": [
        "!cat /proc/meminfo"
      ]
    },
    {
      "cell_type": "code",
      "source": [
        "n_cpu = os.cpu_count()"
      ],
      "metadata": {
        "id": "_500VUW3Ieu9"
      },
      "execution_count": null,
      "outputs": []
    },
    {
      "cell_type": "code",
      "source": [
        "ram = os.sysconf('SC_PAGE_SIZE') * os.sysconf('SC_PHYS_PAGES') / (1024 ** 3)"
      ],
      "metadata": {
        "id": "QIwl63fW6Ae2"
      },
      "execution_count": null,
      "outputs": []
    },
    {
      "cell_type": "code",
      "execution_count": null,
      "metadata": {
        "id": "EPBhAknVyrqx",
        "colab": {
          "base_uri": "https://localhost:8080/"
        },
        "outputId": "197c879e-ea79-4095-b604-45eb2de66c6d"
      },
      "outputs": [
        {
          "output_type": "execute_result",
          "data": {
            "text/plain": [
              "46000000000"
            ]
          },
          "metadata": {},
          "execution_count": 7
        }
      ],
      "source": [
        "# 環境に応じて計算資源を設定\n",
        "psi4.set_num_threads(n_cpu)\n",
        "psi4.set_memory(f'{ram * 0.9: .0f}GB')"
      ]
    },
    {
      "cell_type": "markdown",
      "metadata": {
        "id": "koE5_oczexev"
      },
      "source": [
        "### Psi4のMoleculeオブジェクトについて知ろう"
      ]
    },
    {
      "cell_type": "code",
      "source": [
        "# Moleculeオブジェクトの作成\n",
        "h2o = psi4.geometry('''\n",
        "0 1\n",
        "O       -0.1176269719      0.7387773605      0.0000000000\n",
        "H        0.8523730281      0.7387773605      0.0000000000\n",
        "H       -0.4409567836      1.4770262439     -0.5397651517\n",
        "''')"
      ],
      "metadata": {
        "id": "KZrT0P08buKH"
      },
      "execution_count": null,
      "outputs": []
    },
    {
      "cell_type": "code",
      "source": [
        "type(h2o)"
      ],
      "metadata": {
        "colab": {
          "base_uri": "https://localhost:8080/"
        },
        "id": "KFVKHM7MbuGi",
        "outputId": "c54e1ff6-a50a-46e4-926b-ed9379cd41fb"
      },
      "execution_count": null,
      "outputs": [
        {
          "output_type": "execute_result",
          "data": {
            "text/plain": [
              "psi4.core.Molecule"
            ]
          },
          "metadata": {},
          "execution_count": 9
        }
      ]
    },
    {
      "cell_type": "markdown",
      "source": [
        "#### オブジェクトの複製"
      ],
      "metadata": {
        "id": "VEqlr9GVre0I"
      }
    },
    {
      "cell_type": "code",
      "source": [
        "h2o_2 = h2o.clone()"
      ],
      "metadata": {
        "id": "sZVrN3ZKbuDa"
      },
      "execution_count": null,
      "outputs": []
    },
    {
      "cell_type": "code",
      "source": [
        "h2o == h2o_2"
      ],
      "metadata": {
        "colab": {
          "base_uri": "https://localhost:8080/"
        },
        "id": "FtYwVT06ulF7",
        "outputId": "fbbaa1f3-41cc-4673-cb76-c56781ddad7d"
      },
      "execution_count": null,
      "outputs": [
        {
          "output_type": "execute_result",
          "data": {
            "text/plain": [
              "False"
            ]
          },
          "metadata": {},
          "execution_count": 11
        }
      ]
    },
    {
      "cell_type": "code",
      "source": [
        "print(h2o.save_string_xyz())"
      ],
      "metadata": {
        "colab": {
          "base_uri": "https://localhost:8080/"
        },
        "id": "WkCNu0yCbuAO",
        "outputId": "87f088fd-c204-4dd6-bbdc-ad51f4fe2951"
      },
      "execution_count": null,
      "outputs": [
        {
          "output_type": "stream",
          "name": "stdout",
          "text": [
            "0 1\n",
            " O    0.000000000000   -0.000000000000   -0.062675830412\n",
            " H    0.792000605218    0.000000000000    0.497355455604\n",
            " H   -0.792000605218   -0.000000000000    0.497355455604\n",
            "\n"
          ]
        }
      ]
    },
    {
      "cell_type": "code",
      "source": [
        "print(h2o_2.save_string_xyz())"
      ],
      "metadata": {
        "colab": {
          "base_uri": "https://localhost:8080/"
        },
        "id": "MbJju8lvcN9h",
        "outputId": "9b3b3ed3-262a-48c9-e5aa-0e2b36bd4e19"
      },
      "execution_count": null,
      "outputs": [
        {
          "output_type": "stream",
          "name": "stdout",
          "text": [
            "0 1\n",
            " O    0.000000000000   -0.000000000000   -0.062675830412\n",
            " H    0.792000605218    0.000000000000    0.497355455604\n",
            " H   -0.792000605218   -0.000000000000    0.497355455604\n",
            "\n"
          ]
        }
      ]
    },
    {
      "cell_type": "markdown",
      "source": [
        "#### 代表的なメソッドの使い方"
      ],
      "metadata": {
        "id": "r8UezRIWrkJD"
      }
    },
    {
      "cell_type": "code",
      "source": [
        "print(f'molecular charge: {h2o.molecular_charge()}')\n",
        "print(f'multiplicity: {h2o.multiplicity()}')\n",
        "print(f'number of atoms: {h2o.natom()}')"
      ],
      "metadata": {
        "colab": {
          "base_uri": "https://localhost:8080/"
        },
        "id": "IKtEhHxXclOz",
        "outputId": "5999bce3-204a-4e08-a8e3-bbf1bebfb1ac"
      },
      "execution_count": null,
      "outputs": [
        {
          "output_type": "stream",
          "name": "stdout",
          "text": [
            "molecular charge: 0\n",
            "multiplicity: 1\n",
            "number of atoms: 3\n"
          ]
        }
      ]
    },
    {
      "cell_type": "code",
      "source": [
        "bohr2ang = psi4.constants.bohr2angstroms"
      ],
      "metadata": {
        "id": "ECFvLEF9gpKD"
      },
      "execution_count": null,
      "outputs": []
    },
    {
      "cell_type": "code",
      "source": [
        "for i in range(h2o.natom()):\n",
        "    x = h2o.x(i) * bohr2ang\n",
        "    y = h2o.y(i) * bohr2ang\n",
        "    z = h2o.z(i) * bohr2ang\n",
        "\n",
        "    print(f'{h2o.symbol(i)}\\t{x:.3f}\\t{y:.3f}\\t{z:.3f}')"
      ],
      "metadata": {
        "colab": {
          "base_uri": "https://localhost:8080/"
        },
        "id": "L9ZmGry8clMN",
        "outputId": "c18a5a53-f0c2-4288-bc83-7f9f8f6af038"
      },
      "execution_count": null,
      "outputs": [
        {
          "output_type": "stream",
          "name": "stdout",
          "text": [
            "O\t0.000\t-0.000\t-0.063\n",
            "H\t0.792\t0.000\t0.497\n",
            "H\t-0.792\t-0.000\t0.497\n"
          ]
        }
      ]
    },
    {
      "cell_type": "code",
      "source": [
        "print(h2o.save_string_xyz())"
      ],
      "metadata": {
        "colab": {
          "base_uri": "https://localhost:8080/"
        },
        "id": "_CXsmofjclJZ",
        "outputId": "f0b45deb-dd40-4c67-dfec-9e537df0d585"
      },
      "execution_count": null,
      "outputs": [
        {
          "output_type": "stream",
          "name": "stdout",
          "text": [
            "0 1\n",
            " O    0.000000000000   -0.000000000000   -0.062675830412\n",
            " H    0.792000605218    0.000000000000    0.497355455604\n",
            " H   -0.792000605218   -0.000000000000    0.497355455604\n",
            "\n"
          ]
        }
      ]
    },
    {
      "cell_type": "code",
      "source": [
        "print(h2o.save_string_xyz_file())"
      ],
      "metadata": {
        "colab": {
          "base_uri": "https://localhost:8080/"
        },
        "id": "TmiPlSZGclGs",
        "outputId": "b46d99d4-a8cd-44ec-f582-fe1ab7c126b4"
      },
      "execution_count": null,
      "outputs": [
        {
          "output_type": "stream",
          "name": "stdout",
          "text": [
            "3\n",
            "\n",
            " O    0.000000000000   -0.000000000000   -0.062675830412\n",
            " H    0.792000605218    0.000000000000    0.497355455604\n",
            " H   -0.792000605218   -0.000000000000    0.497355455604\n",
            "\n"
          ]
        }
      ]
    },
    {
      "cell_type": "markdown",
      "source": [
        "### py3Dmolで分子を描画しよう"
      ],
      "metadata": {
        "id": "fIwZeuHahisk"
      }
    },
    {
      "cell_type": "code",
      "execution_count": null,
      "metadata": {
        "colab": {
          "base_uri": "https://localhost:8080/"
        },
        "id": "ZYKqTbwGJZNZ",
        "outputId": "ee820bfe-daef-4db1-a12f-d8ac6aacad5e"
      },
      "outputs": [
        {
          "output_type": "stream",
          "name": "stdout",
          "text": [
            "Collecting py3Dmol\n",
            "  Downloading py3Dmol-2.0.3-py2.py3-none-any.whl (12 kB)\n",
            "Installing collected packages: py3Dmol\n",
            "Successfully installed py3Dmol-2.0.3\n",
            "\u001b[33mWARNING: Running pip as the 'root' user can result in broken permissions and conflicting behaviour with the system package manager. It is recommended to use a virtual environment instead: https://pip.pypa.io/warnings/venv\u001b[0m\u001b[33m\n",
            "\u001b[0m"
          ]
        }
      ],
      "source": [
        "!pip install py3Dmol\n",
        "import py3Dmol"
      ]
    },
    {
      "cell_type": "code",
      "execution_count": null,
      "metadata": {
        "id": "Uk9srTxdllc_"
      },
      "outputs": [],
      "source": [
        "def show_3D(mol: psi4.core.Molecule) -> py3Dmol.view:\n",
        "    \"\"\"\n",
        "    Psi4のMoleculeオブジェクトを描画する\n",
        "    Args:\n",
        "        mol: 描画対象の分子\n",
        "    Return:\n",
        "        py3Dmol.view: py3Dmolの描画オブジェクト\n",
        "\n",
        "    \"\"\"\n",
        "    view = py3Dmol.view(width=400, height=400)\n",
        "    xyz = mol.save_string_xyz_file()\n",
        "    view.addModel(xyz, 'xyz')\n",
        "    view.setStyle({'stick': {}})\n",
        "    view.setBackgroundColor('#e1e1e1')\n",
        "    view.zoomTo()\n",
        "\n",
        "    return view.show()"
      ]
    },
    {
      "cell_type": "code",
      "execution_count": null,
      "metadata": {
        "colab": {
          "base_uri": "https://localhost:8080/",
          "height": 417
        },
        "id": "-Xjwh98evu1Q",
        "outputId": "a4794368-6f3c-45d5-b060-16a48dd531a1"
      },
      "outputs": [
        {
          "output_type": "display_data",
          "data": {
            "application/3dmoljs_load.v0": "<div id=\"3dmolviewer_1688504866192478\"  style=\"position: relative; width: 400px; height: 400px;\">\n        <p id=\"3dmolwarning_1688504866192478\" style=\"background-color:#ffcccc;color:black\">You appear to be running in JupyterLab (or JavaScript failed to load for some other reason).  You need to install the 3dmol extension: <br>\n        <tt>jupyter labextension install jupyterlab_3dmol</tt></p>\n        </div>\n<script>\n\nvar loadScriptAsync = function(uri){\n  return new Promise((resolve, reject) => {\n    //this is to ignore the existence of requirejs amd\n    var savedexports, savedmodule;\n    if (typeof exports !== 'undefined') savedexports = exports;\n    else exports = {}\n    if (typeof module !== 'undefined') savedmodule = module;\n    else module = {}\n\n    var tag = document.createElement('script');\n    tag.src = uri;\n    tag.async = true;\n    tag.onload = () => {\n        exports = savedexports;\n        module = savedmodule;\n        resolve();\n    };\n  var firstScriptTag = document.getElementsByTagName('script')[0];\n  firstScriptTag.parentNode.insertBefore(tag, firstScriptTag);\n});\n};\n\nif(typeof $3Dmolpromise === 'undefined') {\n$3Dmolpromise = null;\n  $3Dmolpromise = loadScriptAsync('https://cdnjs.cloudflare.com/ajax/libs/3Dmol/2.0.3/3Dmol-min.js');\n}\n\nvar viewer_1688504866192478 = null;\nvar warn = document.getElementById(\"3dmolwarning_1688504866192478\");\nif(warn) {\n    warn.parentNode.removeChild(warn);\n}\n$3Dmolpromise.then(function() {\nviewer_1688504866192478 = $3Dmol.createViewer(document.getElementById(\"3dmolviewer_1688504866192478\"),{backgroundColor:\"white\"});\nviewer_1688504866192478.zoomTo();\n\tviewer_1688504866192478.addModel(\"3\\n\\n O    0.000000000000   -0.000000000000   -0.062675830412\\n H    0.792000605218    0.000000000000    0.497355455604\\n H   -0.792000605218   -0.000000000000    0.497355455604\\n\",\"xyz\");\n\tviewer_1688504866192478.setStyle({\"stick\": {}});\n\tviewer_1688504866192478.setBackgroundColor(\"#e1e1e1\");\n\tviewer_1688504866192478.zoomTo();\nviewer_1688504866192478.render();\n});\n</script>",
            "text/html": [
              "<div id=\"3dmolviewer_1688504866192478\"  style=\"position: relative; width: 400px; height: 400px;\">\n",
              "        <p id=\"3dmolwarning_1688504866192478\" style=\"background-color:#ffcccc;color:black\">You appear to be running in JupyterLab (or JavaScript failed to load for some other reason).  You need to install the 3dmol extension: <br>\n",
              "        <tt>jupyter labextension install jupyterlab_3dmol</tt></p>\n",
              "        </div>\n",
              "<script>\n",
              "\n",
              "var loadScriptAsync = function(uri){\n",
              "  return new Promise((resolve, reject) => {\n",
              "    //this is to ignore the existence of requirejs amd\n",
              "    var savedexports, savedmodule;\n",
              "    if (typeof exports !== 'undefined') savedexports = exports;\n",
              "    else exports = {}\n",
              "    if (typeof module !== 'undefined') savedmodule = module;\n",
              "    else module = {}\n",
              "\n",
              "    var tag = document.createElement('script');\n",
              "    tag.src = uri;\n",
              "    tag.async = true;\n",
              "    tag.onload = () => {\n",
              "        exports = savedexports;\n",
              "        module = savedmodule;\n",
              "        resolve();\n",
              "    };\n",
              "  var firstScriptTag = document.getElementsByTagName('script')[0];\n",
              "  firstScriptTag.parentNode.insertBefore(tag, firstScriptTag);\n",
              "});\n",
              "};\n",
              "\n",
              "if(typeof $3Dmolpromise === 'undefined') {\n",
              "$3Dmolpromise = null;\n",
              "  $3Dmolpromise = loadScriptAsync('https://cdnjs.cloudflare.com/ajax/libs/3Dmol/2.0.3/3Dmol-min.js');\n",
              "}\n",
              "\n",
              "var viewer_1688504866192478 = null;\n",
              "var warn = document.getElementById(\"3dmolwarning_1688504866192478\");\n",
              "if(warn) {\n",
              "    warn.parentNode.removeChild(warn);\n",
              "}\n",
              "$3Dmolpromise.then(function() {\n",
              "viewer_1688504866192478 = $3Dmol.createViewer(document.getElementById(\"3dmolviewer_1688504866192478\"),{backgroundColor:\"white\"});\n",
              "viewer_1688504866192478.zoomTo();\n",
              "\tviewer_1688504866192478.addModel(\"3\\n\\n O    0.000000000000   -0.000000000000   -0.062675830412\\n H    0.792000605218    0.000000000000    0.497355455604\\n H   -0.792000605218   -0.000000000000    0.497355455604\\n\",\"xyz\");\n",
              "\tviewer_1688504866192478.setStyle({\"stick\": {}});\n",
              "\tviewer_1688504866192478.setBackgroundColor(\"#e1e1e1\");\n",
              "\tviewer_1688504866192478.zoomTo();\n",
              "viewer_1688504866192478.render();\n",
              "});\n",
              "</script>"
            ]
          },
          "metadata": {}
        }
      ],
      "source": [
        "show_3D(h2o)"
      ]
    },
    {
      "cell_type": "code",
      "source": [],
      "metadata": {
        "id": "8MRi5X7eu5Ob"
      },
      "execution_count": null,
      "outputs": []
    }
  ],
  "metadata": {
    "colab": {
      "machine_shape": "hm",
      "provenance": [],
      "collapsed_sections": [
        "6bh9anTCZFd0",
        "ncq90scdO4Oe"
      ],
      "include_colab_link": true
    },
    "gpuClass": "standard",
    "kernelspec": {
      "display_name": "Python 3",
      "name": "python3"
    }
  },
  "nbformat": 4,
  "nbformat_minor": 0
}