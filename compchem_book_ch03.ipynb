{
  "nbformat": 4,
  "nbformat_minor": 0,
  "metadata": {
    "colab": {
      "provenance": [],
      "machine_shape": "hm",
      "authorship_tag": "ABX9TyO5cneNZcrKU+9PBJdsQwLq",
      "include_colab_link": true
    },
    "kernelspec": {
      "name": "python3",
      "display_name": "Python 3"
    },
    "language_info": {
      "name": "python"
    },
    "gpuClass": "standard"
  },
  "cells": [
    {
      "cell_type": "markdown",
      "metadata": {
        "id": "view-in-github",
        "colab_type": "text"
      },
      "source": [
        "<a href=\"https://colab.research.google.com/github/hidt4/python-compchem-book/blob/main/compchem_book_ch03.ipynb\" target=\"_parent\"><img src=\"https://colab.research.google.com/assets/colab-badge.svg\" alt=\"Open In Colab\"/></a>"
      ]
    },
    {
      "cell_type": "markdown",
      "source": [
        "## 3章 Pythonで量子化学計算をはじめよう"
      ],
      "metadata": {
        "id": "IHFuRRVdzBo8"
      }
    },
    {
      "cell_type": "markdown",
      "source": [
        "### 環境構築"
      ],
      "metadata": {
        "id": "_TcqK1QUsGNM"
      }
    },
    {
      "cell_type": "markdown",
      "source": [
        "#### Google Colab上にPsi4をインストール\n",
        "2023年8月時点では問題なく動作していましたが\n",
        "今後のColabの開発動向次第では動作しなくなる可能性があります"
      ],
      "metadata": {
        "id": "JC1jOFo9WXN_"
      }
    },
    {
      "cell_type": "code",
      "source": [
        "!wget -c https://repo.continuum.io/miniconda/Miniconda3-latest-Linux-x86_64.sh\n",
        "!chmod +x Miniconda3-latest-Linux-x86_64.sh\n",
        "!bash ./Miniconda3-latest-Linux-x86_64.sh -b -f -p /usr/local\n",
        "!conda install -q -y -c psi4 psi4 python=3.10\n",
        "import sys\n",
        "sys.path.append('/usr/local/lib/python3.10/site-packages')"
      ],
      "metadata": {
        "colab": {
          "base_uri": "https://localhost:8080/"
        },
        "id": "lNZFNAUHzZB7",
        "outputId": "82800e80-5f9d-4a40-9387-31a467da99f8"
      },
      "execution_count": null,
      "outputs": [
        {
          "output_type": "stream",
          "name": "stdout",
          "text": [
            "--2023-07-05 06:15:42--  https://repo.continuum.io/miniconda/Miniconda3-latest-Linux-x86_64.sh\n",
            "Resolving repo.continuum.io (repo.continuum.io)... 104.18.200.79, 104.18.201.79, 2606:4700::6812:c94f, ...\n",
            "Connecting to repo.continuum.io (repo.continuum.io)|104.18.200.79|:443... connected.\n",
            "HTTP request sent, awaiting response... 301 Moved Permanently\n",
            "Location: https://repo.anaconda.com/miniconda/Miniconda3-latest-Linux-x86_64.sh [following]\n",
            "--2023-07-05 06:15:42--  https://repo.anaconda.com/miniconda/Miniconda3-latest-Linux-x86_64.sh\n",
            "Resolving repo.anaconda.com (repo.anaconda.com)... 104.16.131.3, 104.16.130.3, 2606:4700::6810:8203, ...\n",
            "Connecting to repo.anaconda.com (repo.anaconda.com)|104.16.131.3|:443... connected.\n",
            "HTTP request sent, awaiting response... 200 OK\n",
            "Length: 73134376 (70M) [application/x-sh]\n",
            "Saving to: ‘Miniconda3-latest-Linux-x86_64.sh’\n",
            "\n",
            "Miniconda3-latest-L 100%[===================>]  69.75M   187MB/s    in 0.4s    \n",
            "\n",
            "2023-07-05 06:15:43 (187 MB/s) - ‘Miniconda3-latest-Linux-x86_64.sh’ saved [73134376/73134376]\n",
            "\n",
            "PREFIX=/usr/local\n",
            "Unpacking payload ...\n",
            "                                                                                         \n",
            "Installing base environment...\n",
            "\n",
            "\n",
            "Downloading and Extracting Packages\n",
            "\n",
            "\n",
            "Downloading and Extracting Packages\n",
            "\n",
            "Preparing transaction: - \b\b\\ \b\b| \b\b/ \b\b- \b\bdone\n",
            "Executing transaction: | \b\b/ \b\b- \b\b\\ \b\b| \b\b/ \b\b- \b\b\\ \b\b| \b\b/ \b\b- \b\b\\ \b\b| \b\b/ \b\b- \b\b\\ \b\b| \b\b/ \b\b- \b\b\\ \b\b| \b\b/ \b\b- \b\b\\ \b\b| \b\b/ \b\b- \b\b\\ \b\b| \b\b/ \b\b- \b\b\\ \b\b| \b\b/ \b\b- \b\bdone\n",
            "installation finished.\n",
            "WARNING:\n",
            "    You currently have a PYTHONPATH environment variable set. This may cause\n",
            "    unexpected behavior when running the Python interpreter in Miniconda3.\n",
            "    For best results, please verify that your PYTHONPATH only points to\n",
            "    directories of packages that are compatible with the Python interpreter\n",
            "    in Miniconda3: /usr/local\n",
            "Collecting package metadata (current_repodata.json): ...working... done\n",
            "Solving environment: ...working... failed with initial frozen solve. Retrying with flexible solve.\n",
            "Solving environment: ...working... failed with repodata from current_repodata.json, will retry with next repodata source.\n",
            "Collecting package metadata (repodata.json): ...working... done\n",
            "Solving environment: ...working... done\n",
            "\n",
            "## Package Plan ##\n",
            "\n",
            "  environment location: /usr/local\n",
            "\n",
            "  added / updated specs:\n",
            "    - psi4\n",
            "    - python=3.10\n",
            "\n",
            "\n",
            "The following packages will be downloaded:\n",
            "\n",
            "    package                    |            build\n",
            "    ---------------------------|-----------------\n",
            "    ambit-0.6                  |  py310h53dec33_2         715 KB  psi4\n",
            "    attrs-22.1.0               |  py310h06a4308_0          86 KB\n",
            "    blas-1.0                   |              mkl           6 KB\n",
            "    ca-certificates-2023.05.30 |       h06a4308_0         120 KB\n",
            "    certifi-2023.5.7           |  py310h06a4308_0         152 KB\n",
            "    chemps2-1.8.11             |       hbe8a562_0         2.4 MB  psi4\n",
            "    conda-23.5.0               |  py310h06a4308_0         1.0 MB\n",
            "    dftd3-3.2.1                |       h84218bc_2         2.0 MB  psi4\n",
            "    dkh-1.2                    |       h173d85e_2         407 KB  psi4\n",
            "    exceptiongroup-1.0.4       |  py310h06a4308_0          28 KB\n",
            "    gau2grid-2.0.7             |       hd18ef5c_0         1.2 MB  psi4\n",
            "    gcp-2.0.2                  |       he991be0_2         605 KB  psi4\n",
            "    gdma-2.2.6                 |       h0e1e685_6         762 KB  psi4\n",
            "    hdf5-1.10.6                |       hb1b8bf9_0         3.7 MB\n",
            "    importlib-metadata-6.0.0   |  py310h06a4308_0          39 KB\n",
            "    importlib_metadata-6.0.0   |       hd3eb1b0_0           8 KB\n",
            "    importlib_resources-5.2.0  |     pyhd3eb1b0_1          21 KB\n",
            "    iniconfig-1.1.1            |     pyhd3eb1b0_0           8 KB\n",
            "    intel-openmp-2021.4.0      |    h06a4308_3561         4.2 MB\n",
            "    libecpint-1.0.7            |       hfebba4c_0         1.4 MB  psi4\n",
            "    libgfortran-ng-7.5.0       |      ha8ba4b0_17          22 KB\n",
            "    libgfortran4-7.5.0         |      ha8ba4b0_17         995 KB\n",
            "    libint2-2.7.1              |      h2fe1556_15       279.3 MB  psi4\n",
            "    libxc-5.2.3                |       hfebba4c_0         7.5 MB  psi4\n",
            "    mkl-2021.4.0               |     h06a4308_640       142.6 MB\n",
            "    mkl-service-2.4.0          |  py310h7f8727e_0         177 KB\n",
            "    mkl_fft-1.3.1              |  py310hd6ae3a3_0         567 KB\n",
            "    mkl_random-1.2.2           |  py310h00e6091_0        1009 KB\n",
            "    msgpack-python-1.0.3       |  py310hd09550d_0         218 KB\n",
            "    networkx-2.8.4             |  py310h06a4308_1         2.7 MB\n",
            "    numpy-1.22.3               |  py310hfa59a62_0          10 KB\n",
            "    numpy-base-1.22.3          |  py310h9585f30_0        11.8 MB\n",
            "    openssl-1.1.1u             |       h7f8727e_0         3.7 MB\n",
            "    optking-0.2.1              |     pyhbc12335_1         124 KB  psi4\n",
            "    pcmsolver-1.2.1.1          |  py310h92d4acf_3         679 KB  psi4\n",
            "    pint-0.17                  |     pyhd8ed1ab_0         168 KB  psi4\n",
            "    psi4-1.7+6ce35a5           |  py310h769327c_1        49.5 MB  psi4\n",
            "    psutil-5.9.0               |  py310h5eee18b_0         368 KB\n",
            "    py-cpuinfo-8.0.0           |     pyhd3eb1b0_1          23 KB\n",
            "    pydantic-1.10.8            |  py310h5eee18b_0         2.3 MB\n",
            "    pytest-7.3.1               |  py310h06a4308_0         524 KB\n",
            "    pyyaml-6.0                 |  py310h5eee18b_1         178 KB\n",
            "    qcelemental-0.25.1         |     pyhd8ed1ab_1         242 KB  psi4\n",
            "    qcengine-0.26.0            |     pyhd8ed1ab_0         225 KB  psi4\n",
            "    scipy-1.7.3                |  py310hfa59a62_0        43.6 MB\n",
            "    simint-0.7                 |       h642920c_1         9.6 MB  psi4\n",
            "    tomli-2.0.1                |  py310h06a4308_0          24 KB\n",
            "    typing-extensions-4.6.3    |  py310h06a4308_0           9 KB\n",
            "    typing_extensions-4.6.3    |  py310h06a4308_0          53 KB\n",
            "    yaml-0.2.5                 |       h7b6447c_0          75 KB\n",
            "    zipp-3.11.0                |  py310h06a4308_0          19 KB\n",
            "    ------------------------------------------------------------\n",
            "                                           Total:       576.6 MB\n",
            "\n",
            "The following NEW packages will be INSTALLED:\n",
            "\n",
            "  ambit              psi4/linux-64::ambit-0.6-py310h53dec33_2 \n",
            "  attrs              pkgs/main/linux-64::attrs-22.1.0-py310h06a4308_0 \n",
            "  blas               pkgs/main/linux-64::blas-1.0-mkl \n",
            "  chemps2            psi4/linux-64::chemps2-1.8.11-hbe8a562_0 \n",
            "  dftd3              psi4/linux-64::dftd3-3.2.1-h84218bc_2 \n",
            "  dkh                psi4/linux-64::dkh-1.2-h173d85e_2 \n",
            "  exceptiongroup     pkgs/main/linux-64::exceptiongroup-1.0.4-py310h06a4308_0 \n",
            "  gau2grid           psi4/linux-64::gau2grid-2.0.7-hd18ef5c_0 \n",
            "  gcp                psi4/linux-64::gcp-2.0.2-he991be0_2 \n",
            "  gdma               psi4/linux-64::gdma-2.2.6-h0e1e685_6 \n",
            "  hdf5               pkgs/main/linux-64::hdf5-1.10.6-hb1b8bf9_0 \n",
            "  importlib-metadata pkgs/main/linux-64::importlib-metadata-6.0.0-py310h06a4308_0 \n",
            "  importlib_metadata pkgs/main/noarch::importlib_metadata-6.0.0-hd3eb1b0_0 \n",
            "  importlib_resourc~ pkgs/main/noarch::importlib_resources-5.2.0-pyhd3eb1b0_1 \n",
            "  iniconfig          pkgs/main/noarch::iniconfig-1.1.1-pyhd3eb1b0_0 \n",
            "  intel-openmp       pkgs/main/linux-64::intel-openmp-2021.4.0-h06a4308_3561 \n",
            "  libecpint          psi4/linux-64::libecpint-1.0.7-hfebba4c_0 \n",
            "  libgfortran-ng     pkgs/main/linux-64::libgfortran-ng-7.5.0-ha8ba4b0_17 \n",
            "  libgfortran4       pkgs/main/linux-64::libgfortran4-7.5.0-ha8ba4b0_17 \n",
            "  libint2            psi4/linux-64::libint2-2.7.1-h2fe1556_15 \n",
            "  libxc              psi4/linux-64::libxc-5.2.3-hfebba4c_0 \n",
            "  mkl                pkgs/main/linux-64::mkl-2021.4.0-h06a4308_640 \n",
            "  mkl-service        pkgs/main/linux-64::mkl-service-2.4.0-py310h7f8727e_0 \n",
            "  mkl_fft            pkgs/main/linux-64::mkl_fft-1.3.1-py310hd6ae3a3_0 \n",
            "  mkl_random         pkgs/main/linux-64::mkl_random-1.2.2-py310h00e6091_0 \n",
            "  msgpack-python     pkgs/main/linux-64::msgpack-python-1.0.3-py310hd09550d_0 \n",
            "  networkx           pkgs/main/linux-64::networkx-2.8.4-py310h06a4308_1 \n",
            "  numpy              pkgs/main/linux-64::numpy-1.22.3-py310hfa59a62_0 \n",
            "  numpy-base         pkgs/main/linux-64::numpy-base-1.22.3-py310h9585f30_0 \n",
            "  optking            psi4/noarch::optking-0.2.1-pyhbc12335_1 \n",
            "  pcmsolver          psi4/linux-64::pcmsolver-1.2.1.1-py310h92d4acf_3 \n",
            "  pint               psi4/noarch::pint-0.17-pyhd8ed1ab_0 \n",
            "  psi4               psi4/linux-64::psi4-1.7+6ce35a5-py310h769327c_1 \n",
            "  psutil             pkgs/main/linux-64::psutil-5.9.0-py310h5eee18b_0 \n",
            "  py-cpuinfo         pkgs/main/noarch::py-cpuinfo-8.0.0-pyhd3eb1b0_1 \n",
            "  pydantic           pkgs/main/linux-64::pydantic-1.10.8-py310h5eee18b_0 \n",
            "  pytest             pkgs/main/linux-64::pytest-7.3.1-py310h06a4308_0 \n",
            "  pyyaml             pkgs/main/linux-64::pyyaml-6.0-py310h5eee18b_1 \n",
            "  qcelemental        psi4/noarch::qcelemental-0.25.1-pyhd8ed1ab_1 \n",
            "  qcengine           psi4/noarch::qcengine-0.26.0-pyhd8ed1ab_0 \n",
            "  scipy              pkgs/main/linux-64::scipy-1.7.3-py310hfa59a62_0 \n",
            "  simint             psi4/linux-64::simint-0.7-h642920c_1 \n",
            "  tomli              pkgs/main/linux-64::tomli-2.0.1-py310h06a4308_0 \n",
            "  typing-extensions  pkgs/main/linux-64::typing-extensions-4.6.3-py310h06a4308_0 \n",
            "  typing_extensions  pkgs/main/linux-64::typing_extensions-4.6.3-py310h06a4308_0 \n",
            "  yaml               pkgs/main/linux-64::yaml-0.2.5-h7b6447c_0 \n",
            "  zipp               pkgs/main/linux-64::zipp-3.11.0-py310h06a4308_0 \n",
            "\n",
            "The following packages will be UPDATED:\n",
            "\n",
            "  ca-certificates                     2023.01.10-h06a4308_0 --> 2023.05.30-h06a4308_0 \n",
            "  certifi                         2022.12.7-py310h06a4308_0 --> 2023.5.7-py310h06a4308_0 \n",
            "  conda                              23.3.1-py310h06a4308_0 --> 23.5.0-py310h06a4308_0 \n",
            "  openssl                                 1.1.1t-h7f8727e_0 --> 1.1.1u-h7f8727e_0 \n",
            "\n",
            "\n",
            "Preparing transaction: ...working... done\n",
            "Verifying transaction: ...working... done\n",
            "Executing transaction: ...working... done\n"
          ]
        }
      ]
    },
    {
      "cell_type": "code",
      "source": [
        "import os\n",
        "import datetime\n",
        "import numpy as np\n",
        "import pandas as pd\n",
        "import psi4\n",
        "\n",
        "print(f'current time: {datetime.datetime.now()}')\n",
        "print(f'python version:\\n{sys.version}')\n",
        "print(f'numpy version: {np.__version__}')\n",
        "print(f'pandas version: {pd.__version__}')\n",
        "print(f'psi4 version: {psi4.__version__}')"
      ],
      "metadata": {
        "colab": {
          "base_uri": "https://localhost:8080/"
        },
        "id": "4aMA8I8tzeVf",
        "outputId": "26bef10a-33e4-44ca-b1ac-f15158cc6cdb"
      },
      "execution_count": null,
      "outputs": [
        {
          "output_type": "stream",
          "name": "stdout",
          "text": [
            "current time: 2023-07-05 06:19:41.480948\n",
            "python version:\n",
            "3.10.12 (main, Jun  7 2023, 12:45:35) [GCC 9.4.0]\n",
            "numpy version: 1.22.4\n",
            "pandas version: 1.5.3\n",
            "psi4 version: 1.7\n"
          ]
        }
      ]
    },
    {
      "cell_type": "markdown",
      "source": [
        "#### 計算資源の設定"
      ],
      "metadata": {
        "id": "mbWg8VLnsZEp"
      }
    },
    {
      "cell_type": "code",
      "source": [
        "# 計算資源の確認（CPU, RAM）\n",
        "!cat /proc/cpuinfo"
      ],
      "metadata": {
        "colab": {
          "base_uri": "https://localhost:8080/"
        },
        "id": "2XH8EOjRsZkE",
        "outputId": "10e8ae96-645e-44b0-b23f-2d984f30f9d6"
      },
      "execution_count": null,
      "outputs": [
        {
          "output_type": "stream",
          "name": "stdout",
          "text": [
            "processor\t: 0\n",
            "vendor_id\t: GenuineIntel\n",
            "cpu family\t: 6\n",
            "model\t\t: 79\n",
            "model name\t: Intel(R) Xeon(R) CPU @ 2.20GHz\n",
            "stepping\t: 0\n",
            "microcode\t: 0xffffffff\n",
            "cpu MHz\t\t: 2200.206\n",
            "cache size\t: 56320 KB\n",
            "physical id\t: 0\n",
            "siblings\t: 8\n",
            "core id\t\t: 0\n",
            "cpu cores\t: 4\n",
            "apicid\t\t: 0\n",
            "initial apicid\t: 0\n",
            "fpu\t\t: yes\n",
            "fpu_exception\t: yes\n",
            "cpuid level\t: 13\n",
            "wp\t\t: yes\n",
            "flags\t\t: fpu vme de pse tsc msr pae mce cx8 apic sep mtrr pge mca cmov pat pse36 clflush mmx fxsr sse sse2 ss ht syscall nx pdpe1gb rdtscp lm constant_tsc rep_good nopl xtopology nonstop_tsc cpuid tsc_known_freq pni pclmulqdq ssse3 fma cx16 pcid sse4_1 sse4_2 x2apic movbe popcnt aes xsave avx f16c rdrand hypervisor lahf_lm abm 3dnowprefetch invpcid_single ssbd ibrs ibpb stibp fsgsbase tsc_adjust bmi1 hle avx2 smep bmi2 erms invpcid rtm rdseed adx smap xsaveopt arat md_clear arch_capabilities\n",
            "bugs\t\t: cpu_meltdown spectre_v1 spectre_v2 spec_store_bypass l1tf mds swapgs taa mmio_stale_data retbleed\n",
            "bogomips\t: 4400.41\n",
            "clflush size\t: 64\n",
            "cache_alignment\t: 64\n",
            "address sizes\t: 46 bits physical, 48 bits virtual\n",
            "power management:\n",
            "\n",
            "processor\t: 1\n",
            "vendor_id\t: GenuineIntel\n",
            "cpu family\t: 6\n",
            "model\t\t: 79\n",
            "model name\t: Intel(R) Xeon(R) CPU @ 2.20GHz\n",
            "stepping\t: 0\n",
            "microcode\t: 0xffffffff\n",
            "cpu MHz\t\t: 2200.206\n",
            "cache size\t: 56320 KB\n",
            "physical id\t: 0\n",
            "siblings\t: 8\n",
            "core id\t\t: 1\n",
            "cpu cores\t: 4\n",
            "apicid\t\t: 2\n",
            "initial apicid\t: 2\n",
            "fpu\t\t: yes\n",
            "fpu_exception\t: yes\n",
            "cpuid level\t: 13\n",
            "wp\t\t: yes\n",
            "flags\t\t: fpu vme de pse tsc msr pae mce cx8 apic sep mtrr pge mca cmov pat pse36 clflush mmx fxsr sse sse2 ss ht syscall nx pdpe1gb rdtscp lm constant_tsc rep_good nopl xtopology nonstop_tsc cpuid tsc_known_freq pni pclmulqdq ssse3 fma cx16 pcid sse4_1 sse4_2 x2apic movbe popcnt aes xsave avx f16c rdrand hypervisor lahf_lm abm 3dnowprefetch invpcid_single ssbd ibrs ibpb stibp fsgsbase tsc_adjust bmi1 hle avx2 smep bmi2 erms invpcid rtm rdseed adx smap xsaveopt arat md_clear arch_capabilities\n",
            "bugs\t\t: cpu_meltdown spectre_v1 spectre_v2 spec_store_bypass l1tf mds swapgs taa mmio_stale_data retbleed\n",
            "bogomips\t: 4400.41\n",
            "clflush size\t: 64\n",
            "cache_alignment\t: 64\n",
            "address sizes\t: 46 bits physical, 48 bits virtual\n",
            "power management:\n",
            "\n",
            "processor\t: 2\n",
            "vendor_id\t: GenuineIntel\n",
            "cpu family\t: 6\n",
            "model\t\t: 79\n",
            "model name\t: Intel(R) Xeon(R) CPU @ 2.20GHz\n",
            "stepping\t: 0\n",
            "microcode\t: 0xffffffff\n",
            "cpu MHz\t\t: 2200.206\n",
            "cache size\t: 56320 KB\n",
            "physical id\t: 0\n",
            "siblings\t: 8\n",
            "core id\t\t: 2\n",
            "cpu cores\t: 4\n",
            "apicid\t\t: 4\n",
            "initial apicid\t: 4\n",
            "fpu\t\t: yes\n",
            "fpu_exception\t: yes\n",
            "cpuid level\t: 13\n",
            "wp\t\t: yes\n",
            "flags\t\t: fpu vme de pse tsc msr pae mce cx8 apic sep mtrr pge mca cmov pat pse36 clflush mmx fxsr sse sse2 ss ht syscall nx pdpe1gb rdtscp lm constant_tsc rep_good nopl xtopology nonstop_tsc cpuid tsc_known_freq pni pclmulqdq ssse3 fma cx16 pcid sse4_1 sse4_2 x2apic movbe popcnt aes xsave avx f16c rdrand hypervisor lahf_lm abm 3dnowprefetch invpcid_single ssbd ibrs ibpb stibp fsgsbase tsc_adjust bmi1 hle avx2 smep bmi2 erms invpcid rtm rdseed adx smap xsaveopt arat md_clear arch_capabilities\n",
            "bugs\t\t: cpu_meltdown spectre_v1 spectre_v2 spec_store_bypass l1tf mds swapgs taa mmio_stale_data retbleed\n",
            "bogomips\t: 4400.41\n",
            "clflush size\t: 64\n",
            "cache_alignment\t: 64\n",
            "address sizes\t: 46 bits physical, 48 bits virtual\n",
            "power management:\n",
            "\n",
            "processor\t: 3\n",
            "vendor_id\t: GenuineIntel\n",
            "cpu family\t: 6\n",
            "model\t\t: 79\n",
            "model name\t: Intel(R) Xeon(R) CPU @ 2.20GHz\n",
            "stepping\t: 0\n",
            "microcode\t: 0xffffffff\n",
            "cpu MHz\t\t: 2200.206\n",
            "cache size\t: 56320 KB\n",
            "physical id\t: 0\n",
            "siblings\t: 8\n",
            "core id\t\t: 3\n",
            "cpu cores\t: 4\n",
            "apicid\t\t: 6\n",
            "initial apicid\t: 6\n",
            "fpu\t\t: yes\n",
            "fpu_exception\t: yes\n",
            "cpuid level\t: 13\n",
            "wp\t\t: yes\n",
            "flags\t\t: fpu vme de pse tsc msr pae mce cx8 apic sep mtrr pge mca cmov pat pse36 clflush mmx fxsr sse sse2 ss ht syscall nx pdpe1gb rdtscp lm constant_tsc rep_good nopl xtopology nonstop_tsc cpuid tsc_known_freq pni pclmulqdq ssse3 fma cx16 pcid sse4_1 sse4_2 x2apic movbe popcnt aes xsave avx f16c rdrand hypervisor lahf_lm abm 3dnowprefetch invpcid_single ssbd ibrs ibpb stibp fsgsbase tsc_adjust bmi1 hle avx2 smep bmi2 erms invpcid rtm rdseed adx smap xsaveopt arat md_clear arch_capabilities\n",
            "bugs\t\t: cpu_meltdown spectre_v1 spectre_v2 spec_store_bypass l1tf mds swapgs taa mmio_stale_data retbleed\n",
            "bogomips\t: 4400.41\n",
            "clflush size\t: 64\n",
            "cache_alignment\t: 64\n",
            "address sizes\t: 46 bits physical, 48 bits virtual\n",
            "power management:\n",
            "\n",
            "processor\t: 4\n",
            "vendor_id\t: GenuineIntel\n",
            "cpu family\t: 6\n",
            "model\t\t: 79\n",
            "model name\t: Intel(R) Xeon(R) CPU @ 2.20GHz\n",
            "stepping\t: 0\n",
            "microcode\t: 0xffffffff\n",
            "cpu MHz\t\t: 2200.206\n",
            "cache size\t: 56320 KB\n",
            "physical id\t: 0\n",
            "siblings\t: 8\n",
            "core id\t\t: 0\n",
            "cpu cores\t: 4\n",
            "apicid\t\t: 1\n",
            "initial apicid\t: 1\n",
            "fpu\t\t: yes\n",
            "fpu_exception\t: yes\n",
            "cpuid level\t: 13\n",
            "wp\t\t: yes\n",
            "flags\t\t: fpu vme de pse tsc msr pae mce cx8 apic sep mtrr pge mca cmov pat pse36 clflush mmx fxsr sse sse2 ss ht syscall nx pdpe1gb rdtscp lm constant_tsc rep_good nopl xtopology nonstop_tsc cpuid tsc_known_freq pni pclmulqdq ssse3 fma cx16 pcid sse4_1 sse4_2 x2apic movbe popcnt aes xsave avx f16c rdrand hypervisor lahf_lm abm 3dnowprefetch invpcid_single ssbd ibrs ibpb stibp fsgsbase tsc_adjust bmi1 hle avx2 smep bmi2 erms invpcid rtm rdseed adx smap xsaveopt arat md_clear arch_capabilities\n",
            "bugs\t\t: cpu_meltdown spectre_v1 spectre_v2 spec_store_bypass l1tf mds swapgs taa mmio_stale_data retbleed\n",
            "bogomips\t: 4400.41\n",
            "clflush size\t: 64\n",
            "cache_alignment\t: 64\n",
            "address sizes\t: 46 bits physical, 48 bits virtual\n",
            "power management:\n",
            "\n",
            "processor\t: 5\n",
            "vendor_id\t: GenuineIntel\n",
            "cpu family\t: 6\n",
            "model\t\t: 79\n",
            "model name\t: Intel(R) Xeon(R) CPU @ 2.20GHz\n",
            "stepping\t: 0\n",
            "microcode\t: 0xffffffff\n",
            "cpu MHz\t\t: 2200.206\n",
            "cache size\t: 56320 KB\n",
            "physical id\t: 0\n",
            "siblings\t: 8\n",
            "core id\t\t: 1\n",
            "cpu cores\t: 4\n",
            "apicid\t\t: 3\n",
            "initial apicid\t: 3\n",
            "fpu\t\t: yes\n",
            "fpu_exception\t: yes\n",
            "cpuid level\t: 13\n",
            "wp\t\t: yes\n",
            "flags\t\t: fpu vme de pse tsc msr pae mce cx8 apic sep mtrr pge mca cmov pat pse36 clflush mmx fxsr sse sse2 ss ht syscall nx pdpe1gb rdtscp lm constant_tsc rep_good nopl xtopology nonstop_tsc cpuid tsc_known_freq pni pclmulqdq ssse3 fma cx16 pcid sse4_1 sse4_2 x2apic movbe popcnt aes xsave avx f16c rdrand hypervisor lahf_lm abm 3dnowprefetch invpcid_single ssbd ibrs ibpb stibp fsgsbase tsc_adjust bmi1 hle avx2 smep bmi2 erms invpcid rtm rdseed adx smap xsaveopt arat md_clear arch_capabilities\n",
            "bugs\t\t: cpu_meltdown spectre_v1 spectre_v2 spec_store_bypass l1tf mds swapgs taa mmio_stale_data retbleed\n",
            "bogomips\t: 4400.41\n",
            "clflush size\t: 64\n",
            "cache_alignment\t: 64\n",
            "address sizes\t: 46 bits physical, 48 bits virtual\n",
            "power management:\n",
            "\n",
            "processor\t: 6\n",
            "vendor_id\t: GenuineIntel\n",
            "cpu family\t: 6\n",
            "model\t\t: 79\n",
            "model name\t: Intel(R) Xeon(R) CPU @ 2.20GHz\n",
            "stepping\t: 0\n",
            "microcode\t: 0xffffffff\n",
            "cpu MHz\t\t: 2200.206\n",
            "cache size\t: 56320 KB\n",
            "physical id\t: 0\n",
            "siblings\t: 8\n",
            "core id\t\t: 2\n",
            "cpu cores\t: 4\n",
            "apicid\t\t: 5\n",
            "initial apicid\t: 5\n",
            "fpu\t\t: yes\n",
            "fpu_exception\t: yes\n",
            "cpuid level\t: 13\n",
            "wp\t\t: yes\n",
            "flags\t\t: fpu vme de pse tsc msr pae mce cx8 apic sep mtrr pge mca cmov pat pse36 clflush mmx fxsr sse sse2 ss ht syscall nx pdpe1gb rdtscp lm constant_tsc rep_good nopl xtopology nonstop_tsc cpuid tsc_known_freq pni pclmulqdq ssse3 fma cx16 pcid sse4_1 sse4_2 x2apic movbe popcnt aes xsave avx f16c rdrand hypervisor lahf_lm abm 3dnowprefetch invpcid_single ssbd ibrs ibpb stibp fsgsbase tsc_adjust bmi1 hle avx2 smep bmi2 erms invpcid rtm rdseed adx smap xsaveopt arat md_clear arch_capabilities\n",
            "bugs\t\t: cpu_meltdown spectre_v1 spectre_v2 spec_store_bypass l1tf mds swapgs taa mmio_stale_data retbleed\n",
            "bogomips\t: 4400.41\n",
            "clflush size\t: 64\n",
            "cache_alignment\t: 64\n",
            "address sizes\t: 46 bits physical, 48 bits virtual\n",
            "power management:\n",
            "\n",
            "processor\t: 7\n",
            "vendor_id\t: GenuineIntel\n",
            "cpu family\t: 6\n",
            "model\t\t: 79\n",
            "model name\t: Intel(R) Xeon(R) CPU @ 2.20GHz\n",
            "stepping\t: 0\n",
            "microcode\t: 0xffffffff\n",
            "cpu MHz\t\t: 2200.206\n",
            "cache size\t: 56320 KB\n",
            "physical id\t: 0\n",
            "siblings\t: 8\n",
            "core id\t\t: 3\n",
            "cpu cores\t: 4\n",
            "apicid\t\t: 7\n",
            "initial apicid\t: 7\n",
            "fpu\t\t: yes\n",
            "fpu_exception\t: yes\n",
            "cpuid level\t: 13\n",
            "wp\t\t: yes\n",
            "flags\t\t: fpu vme de pse tsc msr pae mce cx8 apic sep mtrr pge mca cmov pat pse36 clflush mmx fxsr sse sse2 ss ht syscall nx pdpe1gb rdtscp lm constant_tsc rep_good nopl xtopology nonstop_tsc cpuid tsc_known_freq pni pclmulqdq ssse3 fma cx16 pcid sse4_1 sse4_2 x2apic movbe popcnt aes xsave avx f16c rdrand hypervisor lahf_lm abm 3dnowprefetch invpcid_single ssbd ibrs ibpb stibp fsgsbase tsc_adjust bmi1 hle avx2 smep bmi2 erms invpcid rtm rdseed adx smap xsaveopt arat md_clear arch_capabilities\n",
            "bugs\t\t: cpu_meltdown spectre_v1 spectre_v2 spec_store_bypass l1tf mds swapgs taa mmio_stale_data retbleed\n",
            "bogomips\t: 4400.41\n",
            "clflush size\t: 64\n",
            "cache_alignment\t: 64\n",
            "address sizes\t: 46 bits physical, 48 bits virtual\n",
            "power management:\n",
            "\n"
          ]
        }
      ]
    },
    {
      "cell_type": "code",
      "source": [
        "!cat /proc/meminfo"
      ],
      "metadata": {
        "colab": {
          "base_uri": "https://localhost:8080/"
        },
        "id": "EhS-XmLAskme",
        "outputId": "18e32c61-98a9-4273-fdf3-760735432108"
      },
      "execution_count": null,
      "outputs": [
        {
          "output_type": "stream",
          "name": "stdout",
          "text": [
            "MemTotal:       53474568 kB\n",
            "MemFree:        40907528 kB\n",
            "MemAvailable:   51926512 kB\n",
            "Buffers:          209344 kB\n",
            "Cached:         11009344 kB\n",
            "SwapCached:            0 kB\n",
            "Active:          1195516 kB\n",
            "Inactive:       10586308 kB\n",
            "Active(anon):       1036 kB\n",
            "Inactive(anon):   563448 kB\n",
            "Active(file):    1194480 kB\n",
            "Inactive(file): 10022860 kB\n",
            "Unevictable:           0 kB\n",
            "Mlocked:               0 kB\n",
            "SwapTotal:             0 kB\n",
            "SwapFree:              0 kB\n",
            "Dirty:               840 kB\n",
            "Writeback:             0 kB\n",
            "AnonPages:        558580 kB\n",
            "Mapped:           450440 kB\n",
            "Shmem:              1348 kB\n",
            "KReclaimable:     430404 kB\n",
            "Slab:             510868 kB\n",
            "SReclaimable:     430404 kB\n",
            "SUnreclaim:        80464 kB\n",
            "KernelStack:        6192 kB\n",
            "PageTables:        11644 kB\n",
            "NFS_Unstable:          0 kB\n",
            "Bounce:                0 kB\n",
            "WritebackTmp:          0 kB\n",
            "CommitLimit:    26737284 kB\n",
            "Committed_AS:    2975204 kB\n",
            "VmallocTotal:   34359738367 kB\n",
            "VmallocUsed:       10160 kB\n",
            "VmallocChunk:          0 kB\n",
            "Percpu:             5280 kB\n",
            "HardwareCorrupted:     0 kB\n",
            "AnonHugePages:     16384 kB\n",
            "ShmemHugePages:        0 kB\n",
            "ShmemPmdMapped:        0 kB\n",
            "FileHugePages:         0 kB\n",
            "FilePmdMapped:         0 kB\n",
            "CmaTotal:              0 kB\n",
            "CmaFree:               0 kB\n",
            "HugePages_Total:       0\n",
            "HugePages_Free:        0\n",
            "HugePages_Rsvd:        0\n",
            "HugePages_Surp:        0\n",
            "Hugepagesize:       2048 kB\n",
            "Hugetlb:               0 kB\n",
            "DirectMap4k:       99128 kB\n",
            "DirectMap2M:     4091904 kB\n",
            "DirectMap1G:    52428800 kB\n"
          ]
        }
      ]
    },
    {
      "cell_type": "code",
      "source": [
        "n_cpu = os.cpu_count()"
      ],
      "metadata": {
        "id": "clXJ1S2Pskbz"
      },
      "execution_count": null,
      "outputs": []
    },
    {
      "cell_type": "code",
      "source": [
        "ram = os.sysconf('SC_PAGE_SIZE') * os.sysconf('SC_PHYS_PAGES') / (1024 ** 3)"
      ],
      "metadata": {
        "id": "QfH20cF5skBS"
      },
      "execution_count": null,
      "outputs": []
    },
    {
      "cell_type": "code",
      "source": [
        "# 環境に応じて計算資源を設定\n",
        "psi4.set_num_threads(n_cpu)\n",
        "psi4.set_memory(f'{ram * 0.9: .0f}GB')"
      ],
      "metadata": {
        "colab": {
          "base_uri": "https://localhost:8080/"
        },
        "id": "2HBWpdhBsuve",
        "outputId": "f33ddfdd-c4de-4f25-b947-cb0573da499c"
      },
      "execution_count": null,
      "outputs": [
        {
          "output_type": "execute_result",
          "data": {
            "text/plain": [
              "46000000000"
            ]
          },
          "metadata": {},
          "execution_count": 7
        }
      ]
    },
    {
      "cell_type": "markdown",
      "source": [
        "### 3.3 水分子のエネルギー計算をしてみよう"
      ],
      "metadata": {
        "id": "cyw7tE_jz19L"
      }
    },
    {
      "cell_type": "markdown",
      "source": [
        "#### 3.3.1 Psithon形式で計算を実行してみよう"
      ],
      "metadata": {
        "id": "G9xrZYsBtUJJ"
      }
    },
    {
      "cell_type": "code",
      "source": [
        "!which psi4"
      ],
      "metadata": {
        "colab": {
          "base_uri": "https://localhost:8080/"
        },
        "id": "5Rg4vvUmz03q",
        "outputId": "d87ce22a-6644-4820-a06b-e63ba8b9ac15"
      },
      "execution_count": null,
      "outputs": [
        {
          "output_type": "stream",
          "name": "stdout",
          "text": [
            "/usr/local/bin/psi4\n"
          ]
        }
      ]
    },
    {
      "cell_type": "code",
      "source": [
        "# h2o_psithon.inファイルの作成\n",
        "!cat > h2o_psithon.in"
      ],
      "metadata": {
        "colab": {
          "base_uri": "https://localhost:8080/"
        },
        "id": "r0vK4C4WOtap",
        "outputId": "5771d936-249d-4626-f225-1588ab94fac4"
      },
      "execution_count": null,
      "outputs": [
        {
          "output_type": "stream",
          "name": "stdout",
          "text": [
            "molecule h2o {\n",
            "0 1\n",
            "O       -0.1176269719      0.7387773605      0.0000000000\n",
            "H        0.8523730281      0.7387773605      0.0000000000\n",
            "H       -0.4409567836      1.4770262439     -0.5397651517\n",
            "}\n",
            "\n",
            "energy('hf/sto-3g')\n",
            "^C\n"
          ]
        }
      ]
    },
    {
      "cell_type": "code",
      "source": [
        "!ls -l"
      ],
      "metadata": {
        "colab": {
          "base_uri": "https://localhost:8080/"
        },
        "id": "Km2GGNebuZag",
        "outputId": "a220aa7a-64dd-4cab-c5cc-bf9215cb00f7"
      },
      "execution_count": null,
      "outputs": [
        {
          "output_type": "stream",
          "name": "stdout",
          "text": [
            "total 71448\n",
            "-rw-r--r-- 1 root root      216 Jul  5 06:33 h2o_psithon.in\n",
            "-rw-r--r-- 1 root root        0 Jul  5 06:31 h2o_psithon.log\n",
            "-rw-r--r-- 1 root root     4228 Jul  5 06:31 h2o_psithon.out\n",
            "-rwxr-xr-x 1 root root 73134376 Apr 24 14:26 Miniconda3-latest-Linux-x86_64.sh\n",
            "drwxr-xr-x 1 root root     4096 Jun 29 13:30 sample_data\n",
            "-rw-r--r-- 1 root root      922 Jul  5 06:31 timer.dat\n"
          ]
        }
      ]
    },
    {
      "cell_type": "code",
      "source": [
        "!cat h2o_psithon.in"
      ],
      "metadata": {
        "colab": {
          "base_uri": "https://localhost:8080/"
        },
        "id": "LuIr28gzuba0",
        "outputId": "13402c1b-d2f4-4fff-b6c0-51b0fd7ea6cc"
      },
      "execution_count": null,
      "outputs": [
        {
          "output_type": "stream",
          "name": "stdout",
          "text": [
            "molecule h2o {\n",
            "0 1\n",
            "O       -0.1176269719      0.7387773605      0.0000000000\n",
            "H        0.8523730281      0.7387773605      0.0000000000\n",
            "H       -0.4409567836      1.4770262439     -0.5397651517\n",
            "}\n",
            "\n",
            "energy('hf/sto-3g')\n"
          ]
        }
      ]
    },
    {
      "cell_type": "code",
      "source": [
        "# 計算の実行\n",
        "!psi4 -i h2o_psithon.in -o h2o_psithon.out"
      ],
      "metadata": {
        "id": "7waBmI7-PsRd"
      },
      "execution_count": null,
      "outputs": []
    },
    {
      "cell_type": "code",
      "source": [
        "!grep 'Total Energy' h2o_psithon.out"
      ],
      "metadata": {
        "colab": {
          "base_uri": "https://localhost:8080/"
        },
        "id": "78sO4CS2wd1h",
        "outputId": "8f074be7-8ffc-4e7a-f88f-222a70c83fed"
      },
      "execution_count": null,
      "outputs": [
        {
          "output_type": "stream",
          "name": "stdout",
          "text": [
            "                           Total Energy        Delta E     RMS |[F,P]|\n",
            "    Total Energy =                        -74.9617284312669199\n"
          ]
        }
      ]
    },
    {
      "cell_type": "markdown",
      "source": [
        "#### 3.3.2　PsiAPI形式での計算を実行してみよう"
      ],
      "metadata": {
        "id": "pEJhoihn0KXd"
      }
    },
    {
      "cell_type": "code",
      "source": [
        "# 計算ログファイルの設定\n",
        "psi4.set_output_file('h2o_psiapi.log')"
      ],
      "metadata": {
        "colab": {
          "base_uri": "https://localhost:8080/"
        },
        "id": "gNFnuRCr0PIr",
        "outputId": "f4a550ae-28e9-45d9-da2a-95ab281412f5"
      },
      "execution_count": null,
      "outputs": [
        {
          "output_type": "execute_result",
          "data": {
            "text/plain": [
              "PosixPath('h2o_psiapi.log')"
            ]
          },
          "metadata": {},
          "execution_count": 27
        }
      ]
    },
    {
      "cell_type": "code",
      "source": [
        "# 水分子の構造定義\n",
        "h2o = psi4.geometry('''\n",
        "0 1\n",
        "O       -0.1176269719      0.7387773605      0.0000000000\n",
        "H        0.8523730281      0.7387773605      0.0000000000\n",
        "H       -0.4409567836      1.4770262439     -0.5397651517\n",
        "''')"
      ],
      "metadata": {
        "id": "89O4ZveK1KaL"
      },
      "execution_count": null,
      "outputs": []
    },
    {
      "cell_type": "code",
      "source": [
        "# エネルギー計算の実行\n",
        "psi4.energy('hf/sto-3g', molecule=h2o)"
      ],
      "metadata": {
        "colab": {
          "base_uri": "https://localhost:8080/"
        },
        "id": "mkdU016KxHmI",
        "outputId": "5963de38-25c5-404b-a69d-cb011ce46653"
      },
      "execution_count": null,
      "outputs": [
        {
          "output_type": "stream",
          "name": "stderr",
          "text": [
            "INFO:psi4.driver.task_planner:PLANNING Atomic:  keywords={'function_kwargs': {}}\n",
            "INFO:psi4.driver.driver:Compute energy(): method=hf, basis=sto-3g, molecule=default, nre=9.062772525153836\n",
            "INFO:psi4.driver.driver:Return energy(): -74.96172843126848\n"
          ]
        },
        {
          "output_type": "execute_result",
          "data": {
            "text/plain": [
              "-74.96172843126848"
            ]
          },
          "metadata": {},
          "execution_count": 29
        }
      ]
    },
    {
      "cell_type": "code",
      "source": [],
      "metadata": {
        "id": "DEFeKdIL1dNy"
      },
      "execution_count": null,
      "outputs": []
    }
  ]
}