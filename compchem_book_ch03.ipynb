{
  "nbformat": 4,
  "nbformat_minor": 0,
  "metadata": {
    "colab": {
      "provenance": [],
      "machine_shape": "hm",
      "collapsed_sections": [
        "mbWg8VLnsZEp"
      ],
      "authorship_tag": "ABX9TyNg2ItmT0O7Kl8nnqiG8G7T",
      "include_colab_link": true
    },
    "kernelspec": {
      "name": "python3",
      "display_name": "Python 3"
    },
    "language_info": {
      "name": "python"
    },
    "gpuClass": "standard"
  },
  "cells": [
    {
      "cell_type": "markdown",
      "metadata": {
        "id": "view-in-github",
        "colab_type": "text"
      },
      "source": [
        "<a href=\"https://colab.research.google.com/github/hidt4/python-compchem-book/blob/main/compchem_book_ch03.ipynb\" target=\"_parent\"><img src=\"https://colab.research.google.com/assets/colab-badge.svg\" alt=\"Open In Colab\"/></a>"
      ]
    },
    {
      "cell_type": "markdown",
      "source": [
        "## 3章 Pythonで量子化学計算をはじめよう"
      ],
      "metadata": {
        "id": "IHFuRRVdzBo8"
      }
    },
    {
      "cell_type": "markdown",
      "source": [
        "### 環境構築"
      ],
      "metadata": {
        "id": "_TcqK1QUsGNM"
      }
    },
    {
      "cell_type": "markdown",
      "source": [
        "#### Google Colab上にPsi4をインストール"
      ],
      "metadata": {
        "id": "JC1jOFo9WXN_"
      }
    },
    {
      "cell_type": "code",
      "source": [
        "!wget -c https://repo.continuum.io/miniconda/Miniconda3-latest-Linux-x86_64.sh\n",
        "!chmod +x Miniconda3-latest-Linux-x86_64.sh\n",
        "!bash ./Miniconda3-latest-Linux-x86_64.sh -b -f -p /usr/local\n",
        "!conda install -q -y psi4=1.8 python=3.10 -c conda-forge/label/libint_dev -c conda-forge\n",
        "import sys\n",
        "sys.path.append('/usr/local/lib/python3.10/site-packages')"
      ],
      "metadata": {
        "colab": {
          "base_uri": "https://localhost:8080/"
        },
        "id": "lNZFNAUHzZB7",
        "outputId": "1bb9f7d4-c56a-4057-a431-f12ace841035"
      },
      "execution_count": 1,
      "outputs": [
        {
          "output_type": "stream",
          "name": "stdout",
          "text": [
            "--2024-06-05 12:35:03--  https://repo.continuum.io/miniconda/Miniconda3-latest-Linux-x86_64.sh\n",
            "Resolving repo.continuum.io (repo.continuum.io)... 104.18.177.84, 104.18.176.84, 2606:4700::6812:b154, ...\n",
            "Connecting to repo.continuum.io (repo.continuum.io)|104.18.177.84|:443... connected.\n",
            "HTTP request sent, awaiting response... 301 Moved Permanently\n",
            "Location: https://repo.anaconda.com/miniconda/Miniconda3-latest-Linux-x86_64.sh [following]\n",
            "--2024-06-05 12:35:03--  https://repo.anaconda.com/miniconda/Miniconda3-latest-Linux-x86_64.sh\n",
            "Resolving repo.anaconda.com (repo.anaconda.com)... 104.16.32.241, 104.16.191.158, 2606:4700::6810:bf9e, ...\n",
            "Connecting to repo.anaconda.com (repo.anaconda.com)|104.16.32.241|:443... connected.\n",
            "HTTP request sent, awaiting response... 200 OK\n",
            "Length: 143808873 (137M) [application/octet-stream]\n",
            "Saving to: ‘Miniconda3-latest-Linux-x86_64.sh’\n",
            "\n",
            "Miniconda3-latest-L 100%[===================>] 137.15M   207MB/s    in 0.7s    \n",
            "\n",
            "2024-06-05 12:35:04 (207 MB/s) - ‘Miniconda3-latest-Linux-x86_64.sh’ saved [143808873/143808873]\n",
            "\n",
            "PREFIX=/usr/local\n",
            "Unpacking payload ...\n",
            "\n",
            "Installing base environment...\n",
            "\n",
            "Preparing transaction: ...working... done\n",
            "Executing transaction: ...working... done\n",
            "installation finished.\n",
            "WARNING:\n",
            "    You currently have a PYTHONPATH environment variable set. This may cause\n",
            "    unexpected behavior when running the Python interpreter in Miniconda3.\n",
            "    For best results, please verify that your PYTHONPATH only points to\n",
            "    directories of packages that are compatible with the Python interpreter\n",
            "    in Miniconda3: /usr/local\n",
            "Channels:\n",
            " - conda-forge/label/libint_dev\n",
            " - conda-forge\n",
            " - defaults\n",
            "Platform: linux-64\n",
            "Collecting package metadata (repodata.json): ...working... done\n",
            "Solving environment: ...working... done\n",
            "\n",
            "## Package Plan ##\n",
            "\n",
            "  environment location: /usr/local\n",
            "\n",
            "  added / updated specs:\n",
            "    - psi4=1.8\n",
            "    - python=3.10\n",
            "\n",
            "\n",
            "The following packages will be downloaded:\n",
            "\n",
            "    package                    |            build\n",
            "    ---------------------------|-----------------\n",
            "    _libgcc_mutex-0.1          |      conda_forge           3 KB  conda-forge\n",
            "    _openmp_mutex-4.5          |       2_kmp_llvm           6 KB  conda-forge\n",
            "    anaconda-anon-usage-0.4.4  |py310hfc0e8ea_100          25 KB\n",
            "    annotated-types-0.7.0      |     pyhd8ed1ab_0          18 KB  conda-forge\n",
            "    boltons-24.0.0             |     pyhd8ed1ab_0         291 KB  conda-forge\n",
            "    brotli-python-1.1.0        |  py310hc6cd4ac_1         341 KB  conda-forge\n",
            "    ca-certificates-2024.6.2   |       hbcca054_0         152 KB  conda-forge\n",
            "    certifi-2024.2.2           |     pyhd8ed1ab_0         157 KB  conda-forge\n",
            "    cffi-1.16.0                |  py310h2fee648_0         236 KB  conda-forge\n",
            "    colorama-0.4.6             |     pyhd8ed1ab_0          25 KB  conda-forge\n",
            "    conda-24.5.0               |  py310hff52083_0         939 KB  conda-forge\n",
            "    conda-content-trust-0.2.0  |     pyhd8ed1ab_0          57 KB  conda-forge\n",
            "    conda-package-handling-2.2.0|     pyh38be061_0         249 KB  conda-forge\n",
            "    conda-package-streaming-0.9.0|     pyhd8ed1ab_0          19 KB  conda-forge\n",
            "    cryptography-42.0.8        |  py310hb1bd9d3_0         1.9 MB  conda-forge\n",
            "    distro-1.9.0               |     pyhd8ed1ab_0          41 KB  conda-forge\n",
            "    dkh-1.2                    |       hd59d2e7_0          63 KB  conda-forge\n",
            "    frozendict-2.4.4           |  py310hc51659f_0          48 KB  conda-forge\n",
            "    gau2grid-2.0.7             |       h0b41bf4_2         378 KB  conda-forge\n",
            "    gtest-1.14.0               |       h00ab1b0_1         395 KB  conda-forge\n",
            "    idna-3.7                   |     pyhd8ed1ab_0          51 KB  conda-forge\n",
            "    jsonpatch-1.33             |     pyhd8ed1ab_0          17 KB  conda-forge\n",
            "    libblas-3.9.0              |   20_linux64_mkl          15 KB  conda-forge\n",
            "    libcblas-3.9.0             |   20_linux64_mkl          14 KB  conda-forge\n",
            "    libecpint-1.0.7            |      h3ecfda7_10         344 KB  conda-forge\n",
            "    libgcc-ng-13.2.0           |       h77fa898_7         758 KB  conda-forge\n",
            "    libgfortran-ng-13.2.0      |       h69a702a_7          24 KB  conda-forge\n",
            "    libgfortran5-13.2.0        |       hca663fb_7         1.4 MB  conda-forge\n",
            "    libgomp-13.2.0             |       h77fa898_7         412 KB  conda-forge\n",
            "    libhwloc-2.9.1             |       hd6dc26d_0         2.5 MB  conda-forge\n",
            "    libint-2.7.3dev1           |       h95a0634_0        61.9 MB  conda-forge/label/libint_dev\n",
            "    liblapack-3.9.0            |   20_linux64_mkl          14 KB  conda-forge\n",
            "    libmambapy-1.5.8           |  py310h2dafd23_2         327 KB\n",
            "    libnsl-2.0.1               |       hd590300_0          33 KB  conda-forge\n",
            "    libpcm-1.2.3               |       h4175798_8         546 KB  conda-forge\n",
            "    libsqlite-3.45.3           |       h2797004_0         840 KB  conda-forge\n",
            "    libstdcxx-ng-13.2.0        |       hc0a3c3a_7         3.7 MB  conda-forge\n",
            "    libuuid-2.38.1             |       h0b41bf4_0          33 KB  conda-forge\n",
            "    libxc-c-6.2.2              |   cpu_h1b64f48_4        50.0 MB  conda-forge\n",
            "    libxcrypt-4.4.36           |       hd590300_1          98 KB  conda-forge\n",
            "    libzlib-1.2.13             |       h4ab18f5_6          60 KB  conda-forge\n",
            "    llvm-openmp-18.1.4         |       ha31de31_0        57.5 MB  conda-forge\n",
            "    menuinst-2.1.0             |  py310hff52083_0         134 KB  conda-forge\n",
            "    mkl-2023.2.0               |   h84fe81f_50496       156.8 MB  conda-forge\n",
            "    msgpack-python-1.0.8       |  py310h25c7140_0          95 KB  conda-forge\n",
            "    ncurses-6.5                |       h59595ed_0         867 KB  conda-forge\n",
            "    networkx-3.3               |     pyhd8ed1ab_1         1.1 MB  conda-forge\n",
            "    numpy-1.26.4               |  py310hb13e2d6_0         6.7 MB  conda-forge\n",
            "    openssl-3.3.1              |       h4ab18f5_0         2.8 MB  conda-forge\n",
            "    optking-0.2.1              |     pyhd8ed1ab_0         127 KB  conda-forge\n",
            "    packaging-24.0             |     pyhd8ed1ab_0          49 KB  conda-forge\n",
            "    pcmsolver-1.2.3            |             py_9          94 KB  conda-forge\n",
            "    pint-0.23                  |     pyhd8ed1ab_1         231 KB  conda-forge\n",
            "    pip-24.0                   |     pyhd8ed1ab_0         1.3 MB  conda-forge\n",
            "    platformdirs-4.2.2         |     pyhd8ed1ab_0          20 KB  conda-forge\n",
            "    pluggy-1.5.0               |     pyhd8ed1ab_0          23 KB  conda-forge\n",
            "    psi4-1.8.2                 |  py310hb14b25f_2        24.0 MB  conda-forge\n",
            "    psutil-5.9.8               |  py310h2372a71_0         360 KB  conda-forge\n",
            "    pugixml-1.14               |       h59595ed_0         112 KB  conda-forge\n",
            "    py-cpuinfo-9.0.0           |     pyhd8ed1ab_0          24 KB  conda-forge\n",
            "    pybind11-abi-4             |       hd8ed1ab_3          10 KB  conda-forge\n",
            "    pycosat-0.6.6              |  py310h2372a71_0          85 KB  conda-forge\n",
            "    pydantic-2.7.3             |     pyhd8ed1ab_0         276 KB  conda-forge\n",
            "    pydantic-core-2.18.4       |  py310he421c4c_0         1.5 MB  conda-forge\n",
            "    pysocks-1.7.1              |     pyha2e5f31_6          19 KB  conda-forge\n",
            "    python-3.10.14             |hd12c33a_0_cpython        24.3 MB  conda-forge\n",
            "    python_abi-3.10            |          4_cp310           6 KB  conda-forge\n",
            "    pyyaml-6.0.1               |  py310h2372a71_1         167 KB  conda-forge\n",
            "    qcelemental-0.27.1         |     pyhd8ed1ab_0         245 KB  conda-forge\n",
            "    qcengine-0.29.0            |     pyhd8ed1ab_0         231 KB  conda-forge\n",
            "    requests-2.32.3            |     pyhd8ed1ab_0          57 KB  conda-forge\n",
            "    ruamel.yaml-0.18.6         |  py310h2372a71_0         199 KB  conda-forge\n",
            "    ruamel.yaml.clib-0.2.8     |  py310h2372a71_0         133 KB  conda-forge\n",
            "    scipy-1.13.1               |  py310h93e2701_0        15.7 MB  conda-forge\n",
            "    setuptools-70.0.0          |     pyhd8ed1ab_0         472 KB  conda-forge\n",
            "    tbb-2021.9.0               |       hf52228f_0         1.5 MB  conda-forge\n",
            "    tqdm-4.66.4                |     pyhd8ed1ab_0          87 KB  conda-forge\n",
            "    truststore-0.8.0           |     pyhd8ed1ab_0          20 KB  conda-forge\n",
            "    typing-extensions-4.12.1   |       hd8ed1ab_0          10 KB  conda-forge\n",
            "    typing_extensions-4.12.1   |     pyha770c72_0          39 KB  conda-forge\n",
            "    urllib3-2.2.1              |     pyhd8ed1ab_0          92 KB  conda-forge\n",
            "    wheel-0.43.0               |     pyhd8ed1ab_1          57 KB  conda-forge\n",
            "    yaml-0.2.5                 |       h7f98852_2          87 KB  conda-forge\n",
            "    zlib-1.2.13                |       h4ab18f5_6          91 KB  conda-forge\n",
            "    zstandard-0.22.0           |  py310h1275a96_0         395 KB  conda-forge\n",
            "    ------------------------------------------------------------\n",
            "                                           Total:       426.3 MB\n",
            "\n",
            "The following NEW packages will be INSTALLED:\n",
            "\n",
            "  annotated-types    conda-forge/noarch::annotated-types-0.7.0-pyhd8ed1ab_0 \n",
            "  colorama           conda-forge/noarch::colorama-0.4.6-pyhd8ed1ab_0 \n",
            "  dkh                conda-forge/linux-64::dkh-1.2-hd59d2e7_0 \n",
            "  frozendict         conda-forge/linux-64::frozendict-2.4.4-py310hc51659f_0 \n",
            "  gau2grid           conda-forge/linux-64::gau2grid-2.0.7-h0b41bf4_2 \n",
            "  gtest              conda-forge/linux-64::gtest-1.14.0-h00ab1b0_1 \n",
            "  libblas            conda-forge/linux-64::libblas-3.9.0-20_linux64_mkl \n",
            "  libcblas           conda-forge/linux-64::libcblas-3.9.0-20_linux64_mkl \n",
            "  libecpint          conda-forge/linux-64::libecpint-1.0.7-h3ecfda7_10 \n",
            "  libgfortran-ng     conda-forge/linux-64::libgfortran-ng-13.2.0-h69a702a_7 \n",
            "  libgfortran5       conda-forge/linux-64::libgfortran5-13.2.0-hca663fb_7 \n",
            "  libhwloc           conda-forge/linux-64::libhwloc-2.9.1-hd6dc26d_0 \n",
            "  libint             conda-forge/label/libint_dev/linux-64::libint-2.7.3dev1-h95a0634_0 \n",
            "  liblapack          conda-forge/linux-64::liblapack-3.9.0-20_linux64_mkl \n",
            "  libnsl             conda-forge/linux-64::libnsl-2.0.1-hd590300_0 \n",
            "  libpcm             conda-forge/linux-64::libpcm-1.2.3-h4175798_8 \n",
            "  libsqlite          conda-forge/linux-64::libsqlite-3.45.3-h2797004_0 \n",
            "  libxc-c            conda-forge/linux-64::libxc-c-6.2.2-cpu_h1b64f48_4 \n",
            "  libxcrypt          conda-forge/linux-64::libxcrypt-4.4.36-hd590300_1 \n",
            "  libzlib            conda-forge/linux-64::libzlib-1.2.13-h4ab18f5_6 \n",
            "  llvm-openmp        conda-forge/linux-64::llvm-openmp-18.1.4-ha31de31_0 \n",
            "  mkl                conda-forge/linux-64::mkl-2023.2.0-h84fe81f_50496 \n",
            "  msgpack-python     conda-forge/linux-64::msgpack-python-1.0.8-py310h25c7140_0 \n",
            "  networkx           conda-forge/noarch::networkx-3.3-pyhd8ed1ab_1 \n",
            "  numpy              conda-forge/linux-64::numpy-1.26.4-py310hb13e2d6_0 \n",
            "  optking            conda-forge/noarch::optking-0.2.1-pyhd8ed1ab_0 \n",
            "  pcmsolver          conda-forge/noarch::pcmsolver-1.2.3-py_9 \n",
            "  pint               conda-forge/noarch::pint-0.23-pyhd8ed1ab_1 \n",
            "  psi4               conda-forge/linux-64::psi4-1.8.2-py310hb14b25f_2 \n",
            "  psutil             conda-forge/linux-64::psutil-5.9.8-py310h2372a71_0 \n",
            "  pugixml            conda-forge/linux-64::pugixml-1.14-h59595ed_0 \n",
            "  py-cpuinfo         conda-forge/noarch::py-cpuinfo-9.0.0-pyhd8ed1ab_0 \n",
            "  pydantic           conda-forge/noarch::pydantic-2.7.3-pyhd8ed1ab_0 \n",
            "  pydantic-core      conda-forge/linux-64::pydantic-core-2.18.4-py310he421c4c_0 \n",
            "  python_abi         conda-forge/linux-64::python_abi-3.10-4_cp310 \n",
            "  pyyaml             conda-forge/linux-64::pyyaml-6.0.1-py310h2372a71_1 \n",
            "  qcelemental        conda-forge/noarch::qcelemental-0.27.1-pyhd8ed1ab_0 \n",
            "  qcengine           conda-forge/noarch::qcengine-0.29.0-pyhd8ed1ab_0 \n",
            "  ruamel.yaml.clib   conda-forge/linux-64::ruamel.yaml.clib-0.2.8-py310h2372a71_0 \n",
            "  scipy              conda-forge/linux-64::scipy-1.13.1-py310h93e2701_0 \n",
            "  tbb                conda-forge/linux-64::tbb-2021.9.0-hf52228f_0 \n",
            "  typing-extensions  conda-forge/noarch::typing-extensions-4.12.1-hd8ed1ab_0 \n",
            "  typing_extensions  conda-forge/noarch::typing_extensions-4.12.1-pyha770c72_0 \n",
            "  yaml               conda-forge/linux-64::yaml-0.2.5-h7f98852_2 \n",
            "\n",
            "The following packages will be UPDATED:\n",
            "\n",
            "  boltons            pkgs/main/linux-64::boltons-23.0.0-py~ --> conda-forge/noarch::boltons-24.0.0-pyhd8ed1ab_0 \n",
            "  brotli-python      pkgs/main::brotli-python-1.0.9-py312h~ --> conda-forge::brotli-python-1.1.0-py310hc6cd4ac_1 \n",
            "  ca-certificates    pkgs/main::ca-certificates-2024.3.11-~ --> conda-forge::ca-certificates-2024.6.2-hbcca054_0 \n",
            "  conda              pkgs/main::conda-24.4.0-py312h06a4308~ --> conda-forge::conda-24.5.0-py310hff52083_0 \n",
            "  cryptography       pkgs/main::cryptography-42.0.5-py312h~ --> conda-forge::cryptography-42.0.8-py310hb1bd9d3_0 \n",
            "  libgcc-ng          pkgs/main::libgcc-ng-11.2.0-h1234567_1 --> conda-forge::libgcc-ng-13.2.0-h77fa898_7 \n",
            "  libgomp              pkgs/main::libgomp-11.2.0-h1234567_1 --> conda-forge::libgomp-13.2.0-h77fa898_7 \n",
            "  libstdcxx-ng       pkgs/main::libstdcxx-ng-11.2.0-h12345~ --> conda-forge::libstdcxx-ng-13.2.0-hc0a3c3a_7 \n",
            "  libuuid              pkgs/main::libuuid-1.41.5-h5eee18b_0 --> conda-forge::libuuid-2.38.1-h0b41bf4_0 \n",
            "  menuinst           pkgs/main::menuinst-2.0.2-py312h06a43~ --> conda-forge::menuinst-2.1.0-py310hff52083_0 \n",
            "  ncurses                 pkgs/main::ncurses-6.4-h6a678d5_0 --> conda-forge::ncurses-6.5-h59595ed_0 \n",
            "  openssl              pkgs/main::openssl-3.0.13-h7f8727e_1 --> conda-forge::openssl-3.3.1-h4ab18f5_0 \n",
            "  packaging          pkgs/main/linux-64::packaging-23.2-py~ --> conda-forge/noarch::packaging-24.0-pyhd8ed1ab_0 \n",
            "  platformdirs       pkgs/main/linux-64::platformdirs-3.10~ --> conda-forge/noarch::platformdirs-4.2.2-pyhd8ed1ab_0 \n",
            "  pluggy             pkgs/main/linux-64::pluggy-1.0.0-py31~ --> conda-forge/noarch::pluggy-1.5.0-pyhd8ed1ab_0 \n",
            "  pysocks            pkgs/main/linux-64::pysocks-1.7.1-py3~ --> conda-forge/noarch::pysocks-1.7.1-pyha2e5f31_6 \n",
            "  requests           pkgs/main/linux-64::requests-2.31.0-p~ --> conda-forge/noarch::requests-2.32.3-pyhd8ed1ab_0 \n",
            "  ruamel.yaml        pkgs/main::ruamel.yaml-0.17.21-py312h~ --> conda-forge::ruamel.yaml-0.18.6-py310h2372a71_0 \n",
            "  setuptools         pkgs/main/linux-64::setuptools-69.5.1~ --> conda-forge/noarch::setuptools-70.0.0-pyhd8ed1ab_0 \n",
            "  tqdm               pkgs/main/linux-64::tqdm-4.66.2-py312~ --> conda-forge/noarch::tqdm-4.66.4-pyhd8ed1ab_0 \n",
            "  urllib3            pkgs/main/linux-64::urllib3-2.1.0-py3~ --> conda-forge/noarch::urllib3-2.2.1-pyhd8ed1ab_0 \n",
            "  wheel              pkgs/main/linux-64::wheel-0.43.0-py31~ --> conda-forge/noarch::wheel-0.43.0-pyhd8ed1ab_1 \n",
            "  zlib                    pkgs/main::zlib-1.2.13-h5eee18b_1 --> conda-forge::zlib-1.2.13-h4ab18f5_6 \n",
            "\n",
            "The following packages will be SUPERSEDED by a higher-priority channel:\n",
            "\n",
            "  _libgcc_mutex           pkgs/main::_libgcc_mutex-0.1-main --> conda-forge::_libgcc_mutex-0.1-conda_forge \n",
            "  _openmp_mutex          pkgs/main::_openmp_mutex-5.1-1_gnu --> conda-forge::_openmp_mutex-4.5-2_kmp_llvm \n",
            "  certifi            pkgs/main/linux-64::certifi-2024.2.2-~ --> conda-forge/noarch::certifi-2024.2.2-pyhd8ed1ab_0 \n",
            "  cffi               pkgs/main::cffi-1.16.0-py312h5eee18b_1 --> conda-forge::cffi-1.16.0-py310h2fee648_0 \n",
            "  conda-content-tru~ pkgs/main/linux-64::conda-content-tru~ --> conda-forge/noarch::conda-content-trust-0.2.0-pyhd8ed1ab_0 \n",
            "  conda-package-han~ pkgs/main/linux-64::conda-package-han~ --> conda-forge/noarch::conda-package-handling-2.2.0-pyh38be061_0 \n",
            "  conda-package-str~ pkgs/main/linux-64::conda-package-str~ --> conda-forge/noarch::conda-package-streaming-0.9.0-pyhd8ed1ab_0 \n",
            "  distro             pkgs/main/linux-64::distro-1.9.0-py31~ --> conda-forge/noarch::distro-1.9.0-pyhd8ed1ab_0 \n",
            "  idna               pkgs/main/linux-64::idna-3.7-py312h06~ --> conda-forge/noarch::idna-3.7-pyhd8ed1ab_0 \n",
            "  jsonpatch          pkgs/main/linux-64::jsonpatch-1.33-py~ --> conda-forge/noarch::jsonpatch-1.33-pyhd8ed1ab_0 \n",
            "  pip                pkgs/main/linux-64::pip-24.0-py312h06~ --> conda-forge/noarch::pip-24.0-pyhd8ed1ab_0 \n",
            "  pybind11-abi         pkgs/main::pybind11-abi-5-hd3eb1b0_0 --> conda-forge::pybind11-abi-4-hd8ed1ab_3 \n",
            "  pycosat            pkgs/main::pycosat-0.6.6-py312h5eee18~ --> conda-forge::pycosat-0.6.6-py310h2372a71_0 \n",
            "  python                pkgs/main::python-3.12.3-h996f2a0_1 --> conda-forge::python-3.10.14-hd12c33a_0_cpython \n",
            "  truststore         pkgs/main/linux-64::truststore-0.8.0-~ --> conda-forge/noarch::truststore-0.8.0-pyhd8ed1ab_0 \n",
            "  zstandard          pkgs/main::zstandard-0.22.0-py312h2c3~ --> conda-forge::zstandard-0.22.0-py310h1275a96_0 \n",
            "\n",
            "The following packages will be DOWNGRADED:\n",
            "\n",
            "  anaconda-anon-usa~                0.4.4-py312hfc0e8ea_100 --> 0.4.4-py310hfc0e8ea_100 \n",
            "  libmambapy                          1.5.8-py312h2dafd23_2 --> 1.5.8-py310h2dafd23_2 \n",
            "\n",
            "\n",
            "Preparing transaction: ...working... done\n",
            "Verifying transaction: ...working... done\n",
            "Executing transaction: ...working... done\n"
          ]
        }
      ]
    },
    {
      "cell_type": "code",
      "source": [
        "import os\n",
        "import datetime\n",
        "import numpy as np\n",
        "import pandas as pd\n",
        "import psi4\n",
        "\n",
        "print(f'current time: {datetime.datetime.now()}')\n",
        "print(f'python version:\\n{sys.version}')\n",
        "print(f'numpy version: {np.__version__}')\n",
        "print(f'pandas version: {pd.__version__}')\n",
        "print(f'psi4 version: {psi4.__version__}')"
      ],
      "metadata": {
        "colab": {
          "base_uri": "https://localhost:8080/"
        },
        "id": "4aMA8I8tzeVf",
        "outputId": "79c0b7af-f530-47f4-8a6f-492bd829ffcc"
      },
      "execution_count": 2,
      "outputs": [
        {
          "output_type": "stream",
          "name": "stdout",
          "text": [
            "current time: 2024-06-05 12:40:01.930636\n",
            "python version:\n",
            "3.10.12 (main, Nov 20 2023, 15:14:05) [GCC 11.4.0]\n",
            "numpy version: 1.25.2\n",
            "pandas version: 2.0.3\n",
            "psi4 version: 1.8.2\n"
          ]
        }
      ]
    },
    {
      "cell_type": "markdown",
      "source": [
        "#### 計算資源の設定"
      ],
      "metadata": {
        "id": "mbWg8VLnsZEp"
      }
    },
    {
      "cell_type": "code",
      "source": [
        "# 計算資源の確認（CPU, RAM）\n",
        "!cat /proc/cpuinfo"
      ],
      "metadata": {
        "colab": {
          "base_uri": "https://localhost:8080/"
        },
        "id": "2XH8EOjRsZkE",
        "outputId": "10e8ae96-645e-44b0-b23f-2d984f30f9d6"
      },
      "execution_count": null,
      "outputs": [
        {
          "output_type": "stream",
          "name": "stdout",
          "text": [
            "processor\t: 0\n",
            "vendor_id\t: GenuineIntel\n",
            "cpu family\t: 6\n",
            "model\t\t: 79\n",
            "model name\t: Intel(R) Xeon(R) CPU @ 2.20GHz\n",
            "stepping\t: 0\n",
            "microcode\t: 0xffffffff\n",
            "cpu MHz\t\t: 2200.206\n",
            "cache size\t: 56320 KB\n",
            "physical id\t: 0\n",
            "siblings\t: 8\n",
            "core id\t\t: 0\n",
            "cpu cores\t: 4\n",
            "apicid\t\t: 0\n",
            "initial apicid\t: 0\n",
            "fpu\t\t: yes\n",
            "fpu_exception\t: yes\n",
            "cpuid level\t: 13\n",
            "wp\t\t: yes\n",
            "flags\t\t: fpu vme de pse tsc msr pae mce cx8 apic sep mtrr pge mca cmov pat pse36 clflush mmx fxsr sse sse2 ss ht syscall nx pdpe1gb rdtscp lm constant_tsc rep_good nopl xtopology nonstop_tsc cpuid tsc_known_freq pni pclmulqdq ssse3 fma cx16 pcid sse4_1 sse4_2 x2apic movbe popcnt aes xsave avx f16c rdrand hypervisor lahf_lm abm 3dnowprefetch invpcid_single ssbd ibrs ibpb stibp fsgsbase tsc_adjust bmi1 hle avx2 smep bmi2 erms invpcid rtm rdseed adx smap xsaveopt arat md_clear arch_capabilities\n",
            "bugs\t\t: cpu_meltdown spectre_v1 spectre_v2 spec_store_bypass l1tf mds swapgs taa mmio_stale_data retbleed\n",
            "bogomips\t: 4400.41\n",
            "clflush size\t: 64\n",
            "cache_alignment\t: 64\n",
            "address sizes\t: 46 bits physical, 48 bits virtual\n",
            "power management:\n",
            "\n",
            "processor\t: 1\n",
            "vendor_id\t: GenuineIntel\n",
            "cpu family\t: 6\n",
            "model\t\t: 79\n",
            "model name\t: Intel(R) Xeon(R) CPU @ 2.20GHz\n",
            "stepping\t: 0\n",
            "microcode\t: 0xffffffff\n",
            "cpu MHz\t\t: 2200.206\n",
            "cache size\t: 56320 KB\n",
            "physical id\t: 0\n",
            "siblings\t: 8\n",
            "core id\t\t: 1\n",
            "cpu cores\t: 4\n",
            "apicid\t\t: 2\n",
            "initial apicid\t: 2\n",
            "fpu\t\t: yes\n",
            "fpu_exception\t: yes\n",
            "cpuid level\t: 13\n",
            "wp\t\t: yes\n",
            "flags\t\t: fpu vme de pse tsc msr pae mce cx8 apic sep mtrr pge mca cmov pat pse36 clflush mmx fxsr sse sse2 ss ht syscall nx pdpe1gb rdtscp lm constant_tsc rep_good nopl xtopology nonstop_tsc cpuid tsc_known_freq pni pclmulqdq ssse3 fma cx16 pcid sse4_1 sse4_2 x2apic movbe popcnt aes xsave avx f16c rdrand hypervisor lahf_lm abm 3dnowprefetch invpcid_single ssbd ibrs ibpb stibp fsgsbase tsc_adjust bmi1 hle avx2 smep bmi2 erms invpcid rtm rdseed adx smap xsaveopt arat md_clear arch_capabilities\n",
            "bugs\t\t: cpu_meltdown spectre_v1 spectre_v2 spec_store_bypass l1tf mds swapgs taa mmio_stale_data retbleed\n",
            "bogomips\t: 4400.41\n",
            "clflush size\t: 64\n",
            "cache_alignment\t: 64\n",
            "address sizes\t: 46 bits physical, 48 bits virtual\n",
            "power management:\n",
            "\n",
            "processor\t: 2\n",
            "vendor_id\t: GenuineIntel\n",
            "cpu family\t: 6\n",
            "model\t\t: 79\n",
            "model name\t: Intel(R) Xeon(R) CPU @ 2.20GHz\n",
            "stepping\t: 0\n",
            "microcode\t: 0xffffffff\n",
            "cpu MHz\t\t: 2200.206\n",
            "cache size\t: 56320 KB\n",
            "physical id\t: 0\n",
            "siblings\t: 8\n",
            "core id\t\t: 2\n",
            "cpu cores\t: 4\n",
            "apicid\t\t: 4\n",
            "initial apicid\t: 4\n",
            "fpu\t\t: yes\n",
            "fpu_exception\t: yes\n",
            "cpuid level\t: 13\n",
            "wp\t\t: yes\n",
            "flags\t\t: fpu vme de pse tsc msr pae mce cx8 apic sep mtrr pge mca cmov pat pse36 clflush mmx fxsr sse sse2 ss ht syscall nx pdpe1gb rdtscp lm constant_tsc rep_good nopl xtopology nonstop_tsc cpuid tsc_known_freq pni pclmulqdq ssse3 fma cx16 pcid sse4_1 sse4_2 x2apic movbe popcnt aes xsave avx f16c rdrand hypervisor lahf_lm abm 3dnowprefetch invpcid_single ssbd ibrs ibpb stibp fsgsbase tsc_adjust bmi1 hle avx2 smep bmi2 erms invpcid rtm rdseed adx smap xsaveopt arat md_clear arch_capabilities\n",
            "bugs\t\t: cpu_meltdown spectre_v1 spectre_v2 spec_store_bypass l1tf mds swapgs taa mmio_stale_data retbleed\n",
            "bogomips\t: 4400.41\n",
            "clflush size\t: 64\n",
            "cache_alignment\t: 64\n",
            "address sizes\t: 46 bits physical, 48 bits virtual\n",
            "power management:\n",
            "\n",
            "processor\t: 3\n",
            "vendor_id\t: GenuineIntel\n",
            "cpu family\t: 6\n",
            "model\t\t: 79\n",
            "model name\t: Intel(R) Xeon(R) CPU @ 2.20GHz\n",
            "stepping\t: 0\n",
            "microcode\t: 0xffffffff\n",
            "cpu MHz\t\t: 2200.206\n",
            "cache size\t: 56320 KB\n",
            "physical id\t: 0\n",
            "siblings\t: 8\n",
            "core id\t\t: 3\n",
            "cpu cores\t: 4\n",
            "apicid\t\t: 6\n",
            "initial apicid\t: 6\n",
            "fpu\t\t: yes\n",
            "fpu_exception\t: yes\n",
            "cpuid level\t: 13\n",
            "wp\t\t: yes\n",
            "flags\t\t: fpu vme de pse tsc msr pae mce cx8 apic sep mtrr pge mca cmov pat pse36 clflush mmx fxsr sse sse2 ss ht syscall nx pdpe1gb rdtscp lm constant_tsc rep_good nopl xtopology nonstop_tsc cpuid tsc_known_freq pni pclmulqdq ssse3 fma cx16 pcid sse4_1 sse4_2 x2apic movbe popcnt aes xsave avx f16c rdrand hypervisor lahf_lm abm 3dnowprefetch invpcid_single ssbd ibrs ibpb stibp fsgsbase tsc_adjust bmi1 hle avx2 smep bmi2 erms invpcid rtm rdseed adx smap xsaveopt arat md_clear arch_capabilities\n",
            "bugs\t\t: cpu_meltdown spectre_v1 spectre_v2 spec_store_bypass l1tf mds swapgs taa mmio_stale_data retbleed\n",
            "bogomips\t: 4400.41\n",
            "clflush size\t: 64\n",
            "cache_alignment\t: 64\n",
            "address sizes\t: 46 bits physical, 48 bits virtual\n",
            "power management:\n",
            "\n",
            "processor\t: 4\n",
            "vendor_id\t: GenuineIntel\n",
            "cpu family\t: 6\n",
            "model\t\t: 79\n",
            "model name\t: Intel(R) Xeon(R) CPU @ 2.20GHz\n",
            "stepping\t: 0\n",
            "microcode\t: 0xffffffff\n",
            "cpu MHz\t\t: 2200.206\n",
            "cache size\t: 56320 KB\n",
            "physical id\t: 0\n",
            "siblings\t: 8\n",
            "core id\t\t: 0\n",
            "cpu cores\t: 4\n",
            "apicid\t\t: 1\n",
            "initial apicid\t: 1\n",
            "fpu\t\t: yes\n",
            "fpu_exception\t: yes\n",
            "cpuid level\t: 13\n",
            "wp\t\t: yes\n",
            "flags\t\t: fpu vme de pse tsc msr pae mce cx8 apic sep mtrr pge mca cmov pat pse36 clflush mmx fxsr sse sse2 ss ht syscall nx pdpe1gb rdtscp lm constant_tsc rep_good nopl xtopology nonstop_tsc cpuid tsc_known_freq pni pclmulqdq ssse3 fma cx16 pcid sse4_1 sse4_2 x2apic movbe popcnt aes xsave avx f16c rdrand hypervisor lahf_lm abm 3dnowprefetch invpcid_single ssbd ibrs ibpb stibp fsgsbase tsc_adjust bmi1 hle avx2 smep bmi2 erms invpcid rtm rdseed adx smap xsaveopt arat md_clear arch_capabilities\n",
            "bugs\t\t: cpu_meltdown spectre_v1 spectre_v2 spec_store_bypass l1tf mds swapgs taa mmio_stale_data retbleed\n",
            "bogomips\t: 4400.41\n",
            "clflush size\t: 64\n",
            "cache_alignment\t: 64\n",
            "address sizes\t: 46 bits physical, 48 bits virtual\n",
            "power management:\n",
            "\n",
            "processor\t: 5\n",
            "vendor_id\t: GenuineIntel\n",
            "cpu family\t: 6\n",
            "model\t\t: 79\n",
            "model name\t: Intel(R) Xeon(R) CPU @ 2.20GHz\n",
            "stepping\t: 0\n",
            "microcode\t: 0xffffffff\n",
            "cpu MHz\t\t: 2200.206\n",
            "cache size\t: 56320 KB\n",
            "physical id\t: 0\n",
            "siblings\t: 8\n",
            "core id\t\t: 1\n",
            "cpu cores\t: 4\n",
            "apicid\t\t: 3\n",
            "initial apicid\t: 3\n",
            "fpu\t\t: yes\n",
            "fpu_exception\t: yes\n",
            "cpuid level\t: 13\n",
            "wp\t\t: yes\n",
            "flags\t\t: fpu vme de pse tsc msr pae mce cx8 apic sep mtrr pge mca cmov pat pse36 clflush mmx fxsr sse sse2 ss ht syscall nx pdpe1gb rdtscp lm constant_tsc rep_good nopl xtopology nonstop_tsc cpuid tsc_known_freq pni pclmulqdq ssse3 fma cx16 pcid sse4_1 sse4_2 x2apic movbe popcnt aes xsave avx f16c rdrand hypervisor lahf_lm abm 3dnowprefetch invpcid_single ssbd ibrs ibpb stibp fsgsbase tsc_adjust bmi1 hle avx2 smep bmi2 erms invpcid rtm rdseed adx smap xsaveopt arat md_clear arch_capabilities\n",
            "bugs\t\t: cpu_meltdown spectre_v1 spectre_v2 spec_store_bypass l1tf mds swapgs taa mmio_stale_data retbleed\n",
            "bogomips\t: 4400.41\n",
            "clflush size\t: 64\n",
            "cache_alignment\t: 64\n",
            "address sizes\t: 46 bits physical, 48 bits virtual\n",
            "power management:\n",
            "\n",
            "processor\t: 6\n",
            "vendor_id\t: GenuineIntel\n",
            "cpu family\t: 6\n",
            "model\t\t: 79\n",
            "model name\t: Intel(R) Xeon(R) CPU @ 2.20GHz\n",
            "stepping\t: 0\n",
            "microcode\t: 0xffffffff\n",
            "cpu MHz\t\t: 2200.206\n",
            "cache size\t: 56320 KB\n",
            "physical id\t: 0\n",
            "siblings\t: 8\n",
            "core id\t\t: 2\n",
            "cpu cores\t: 4\n",
            "apicid\t\t: 5\n",
            "initial apicid\t: 5\n",
            "fpu\t\t: yes\n",
            "fpu_exception\t: yes\n",
            "cpuid level\t: 13\n",
            "wp\t\t: yes\n",
            "flags\t\t: fpu vme de pse tsc msr pae mce cx8 apic sep mtrr pge mca cmov pat pse36 clflush mmx fxsr sse sse2 ss ht syscall nx pdpe1gb rdtscp lm constant_tsc rep_good nopl xtopology nonstop_tsc cpuid tsc_known_freq pni pclmulqdq ssse3 fma cx16 pcid sse4_1 sse4_2 x2apic movbe popcnt aes xsave avx f16c rdrand hypervisor lahf_lm abm 3dnowprefetch invpcid_single ssbd ibrs ibpb stibp fsgsbase tsc_adjust bmi1 hle avx2 smep bmi2 erms invpcid rtm rdseed adx smap xsaveopt arat md_clear arch_capabilities\n",
            "bugs\t\t: cpu_meltdown spectre_v1 spectre_v2 spec_store_bypass l1tf mds swapgs taa mmio_stale_data retbleed\n",
            "bogomips\t: 4400.41\n",
            "clflush size\t: 64\n",
            "cache_alignment\t: 64\n",
            "address sizes\t: 46 bits physical, 48 bits virtual\n",
            "power management:\n",
            "\n",
            "processor\t: 7\n",
            "vendor_id\t: GenuineIntel\n",
            "cpu family\t: 6\n",
            "model\t\t: 79\n",
            "model name\t: Intel(R) Xeon(R) CPU @ 2.20GHz\n",
            "stepping\t: 0\n",
            "microcode\t: 0xffffffff\n",
            "cpu MHz\t\t: 2200.206\n",
            "cache size\t: 56320 KB\n",
            "physical id\t: 0\n",
            "siblings\t: 8\n",
            "core id\t\t: 3\n",
            "cpu cores\t: 4\n",
            "apicid\t\t: 7\n",
            "initial apicid\t: 7\n",
            "fpu\t\t: yes\n",
            "fpu_exception\t: yes\n",
            "cpuid level\t: 13\n",
            "wp\t\t: yes\n",
            "flags\t\t: fpu vme de pse tsc msr pae mce cx8 apic sep mtrr pge mca cmov pat pse36 clflush mmx fxsr sse sse2 ss ht syscall nx pdpe1gb rdtscp lm constant_tsc rep_good nopl xtopology nonstop_tsc cpuid tsc_known_freq pni pclmulqdq ssse3 fma cx16 pcid sse4_1 sse4_2 x2apic movbe popcnt aes xsave avx f16c rdrand hypervisor lahf_lm abm 3dnowprefetch invpcid_single ssbd ibrs ibpb stibp fsgsbase tsc_adjust bmi1 hle avx2 smep bmi2 erms invpcid rtm rdseed adx smap xsaveopt arat md_clear arch_capabilities\n",
            "bugs\t\t: cpu_meltdown spectre_v1 spectre_v2 spec_store_bypass l1tf mds swapgs taa mmio_stale_data retbleed\n",
            "bogomips\t: 4400.41\n",
            "clflush size\t: 64\n",
            "cache_alignment\t: 64\n",
            "address sizes\t: 46 bits physical, 48 bits virtual\n",
            "power management:\n",
            "\n"
          ]
        }
      ]
    },
    {
      "cell_type": "code",
      "source": [
        "!cat /proc/meminfo"
      ],
      "metadata": {
        "colab": {
          "base_uri": "https://localhost:8080/"
        },
        "id": "EhS-XmLAskme",
        "outputId": "18e32c61-98a9-4273-fdf3-760735432108"
      },
      "execution_count": null,
      "outputs": [
        {
          "output_type": "stream",
          "name": "stdout",
          "text": [
            "MemTotal:       53474568 kB\n",
            "MemFree:        40907528 kB\n",
            "MemAvailable:   51926512 kB\n",
            "Buffers:          209344 kB\n",
            "Cached:         11009344 kB\n",
            "SwapCached:            0 kB\n",
            "Active:          1195516 kB\n",
            "Inactive:       10586308 kB\n",
            "Active(anon):       1036 kB\n",
            "Inactive(anon):   563448 kB\n",
            "Active(file):    1194480 kB\n",
            "Inactive(file): 10022860 kB\n",
            "Unevictable:           0 kB\n",
            "Mlocked:               0 kB\n",
            "SwapTotal:             0 kB\n",
            "SwapFree:              0 kB\n",
            "Dirty:               840 kB\n",
            "Writeback:             0 kB\n",
            "AnonPages:        558580 kB\n",
            "Mapped:           450440 kB\n",
            "Shmem:              1348 kB\n",
            "KReclaimable:     430404 kB\n",
            "Slab:             510868 kB\n",
            "SReclaimable:     430404 kB\n",
            "SUnreclaim:        80464 kB\n",
            "KernelStack:        6192 kB\n",
            "PageTables:        11644 kB\n",
            "NFS_Unstable:          0 kB\n",
            "Bounce:                0 kB\n",
            "WritebackTmp:          0 kB\n",
            "CommitLimit:    26737284 kB\n",
            "Committed_AS:    2975204 kB\n",
            "VmallocTotal:   34359738367 kB\n",
            "VmallocUsed:       10160 kB\n",
            "VmallocChunk:          0 kB\n",
            "Percpu:             5280 kB\n",
            "HardwareCorrupted:     0 kB\n",
            "AnonHugePages:     16384 kB\n",
            "ShmemHugePages:        0 kB\n",
            "ShmemPmdMapped:        0 kB\n",
            "FileHugePages:         0 kB\n",
            "FilePmdMapped:         0 kB\n",
            "CmaTotal:              0 kB\n",
            "CmaFree:               0 kB\n",
            "HugePages_Total:       0\n",
            "HugePages_Free:        0\n",
            "HugePages_Rsvd:        0\n",
            "HugePages_Surp:        0\n",
            "Hugepagesize:       2048 kB\n",
            "Hugetlb:               0 kB\n",
            "DirectMap4k:       99128 kB\n",
            "DirectMap2M:     4091904 kB\n",
            "DirectMap1G:    52428800 kB\n"
          ]
        }
      ]
    },
    {
      "cell_type": "code",
      "source": [
        "n_cpu = os.cpu_count()"
      ],
      "metadata": {
        "id": "clXJ1S2Pskbz"
      },
      "execution_count": null,
      "outputs": []
    },
    {
      "cell_type": "code",
      "source": [
        "ram = os.sysconf('SC_PAGE_SIZE') * os.sysconf('SC_PHYS_PAGES') / (1024 ** 3)"
      ],
      "metadata": {
        "id": "QfH20cF5skBS"
      },
      "execution_count": null,
      "outputs": []
    },
    {
      "cell_type": "code",
      "source": [
        "# 環境に応じて計算資源を設定\n",
        "psi4.set_num_threads(n_cpu)\n",
        "psi4.set_memory(f'{ram * 0.9: .0f}GB')"
      ],
      "metadata": {
        "colab": {
          "base_uri": "https://localhost:8080/"
        },
        "id": "2HBWpdhBsuve",
        "outputId": "f33ddfdd-c4de-4f25-b947-cb0573da499c"
      },
      "execution_count": null,
      "outputs": [
        {
          "output_type": "execute_result",
          "data": {
            "text/plain": [
              "46000000000"
            ]
          },
          "metadata": {},
          "execution_count": 7
        }
      ]
    },
    {
      "cell_type": "markdown",
      "source": [
        "### 3.3 水分子のエネルギー計算をしてみよう"
      ],
      "metadata": {
        "id": "cyw7tE_jz19L"
      }
    },
    {
      "cell_type": "markdown",
      "source": [
        "#### 3.3.1 Psithon形式で計算を実行してみよう"
      ],
      "metadata": {
        "id": "G9xrZYsBtUJJ"
      }
    },
    {
      "cell_type": "code",
      "source": [
        "!which psi4"
      ],
      "metadata": {
        "colab": {
          "base_uri": "https://localhost:8080/"
        },
        "id": "5Rg4vvUmz03q",
        "outputId": "d87ce22a-6644-4820-a06b-e63ba8b9ac15"
      },
      "execution_count": null,
      "outputs": [
        {
          "output_type": "stream",
          "name": "stdout",
          "text": [
            "/usr/local/bin/psi4\n"
          ]
        }
      ]
    },
    {
      "cell_type": "code",
      "source": [
        "# h2o_psithon.inファイルの作成\n",
        "!cat > h2o_psithon.in"
      ],
      "metadata": {
        "colab": {
          "base_uri": "https://localhost:8080/"
        },
        "id": "r0vK4C4WOtap",
        "outputId": "5771d936-249d-4626-f225-1588ab94fac4"
      },
      "execution_count": null,
      "outputs": [
        {
          "output_type": "stream",
          "name": "stdout",
          "text": [
            "molecule h2o {\n",
            "0 1\n",
            "O       -0.1176269719      0.7387773605      0.0000000000\n",
            "H        0.8523730281      0.7387773605      0.0000000000\n",
            "H       -0.4409567836      1.4770262439     -0.5397651517\n",
            "}\n",
            "\n",
            "energy('hf/sto-3g')\n",
            "^C\n"
          ]
        }
      ]
    },
    {
      "cell_type": "code",
      "source": [
        "!ls -l"
      ],
      "metadata": {
        "colab": {
          "base_uri": "https://localhost:8080/"
        },
        "id": "Km2GGNebuZag",
        "outputId": "a220aa7a-64dd-4cab-c5cc-bf9215cb00f7"
      },
      "execution_count": null,
      "outputs": [
        {
          "output_type": "stream",
          "name": "stdout",
          "text": [
            "total 71448\n",
            "-rw-r--r-- 1 root root      216 Jul  5 06:33 h2o_psithon.in\n",
            "-rw-r--r-- 1 root root        0 Jul  5 06:31 h2o_psithon.log\n",
            "-rw-r--r-- 1 root root     4228 Jul  5 06:31 h2o_psithon.out\n",
            "-rwxr-xr-x 1 root root 73134376 Apr 24 14:26 Miniconda3-latest-Linux-x86_64.sh\n",
            "drwxr-xr-x 1 root root     4096 Jun 29 13:30 sample_data\n",
            "-rw-r--r-- 1 root root      922 Jul  5 06:31 timer.dat\n"
          ]
        }
      ]
    },
    {
      "cell_type": "code",
      "source": [
        "!cat h2o_psithon.in"
      ],
      "metadata": {
        "colab": {
          "base_uri": "https://localhost:8080/"
        },
        "id": "LuIr28gzuba0",
        "outputId": "13402c1b-d2f4-4fff-b6c0-51b0fd7ea6cc"
      },
      "execution_count": null,
      "outputs": [
        {
          "output_type": "stream",
          "name": "stdout",
          "text": [
            "molecule h2o {\n",
            "0 1\n",
            "O       -0.1176269719      0.7387773605      0.0000000000\n",
            "H        0.8523730281      0.7387773605      0.0000000000\n",
            "H       -0.4409567836      1.4770262439     -0.5397651517\n",
            "}\n",
            "\n",
            "energy('hf/sto-3g')\n"
          ]
        }
      ]
    },
    {
      "cell_type": "code",
      "source": [
        "# 計算の実行\n",
        "!psi4 -i h2o_psithon.in -o h2o_psithon.out"
      ],
      "metadata": {
        "id": "7waBmI7-PsRd"
      },
      "execution_count": null,
      "outputs": []
    },
    {
      "cell_type": "code",
      "source": [
        "!grep 'Total Energy' h2o_psithon.out"
      ],
      "metadata": {
        "colab": {
          "base_uri": "https://localhost:8080/"
        },
        "id": "78sO4CS2wd1h",
        "outputId": "8f074be7-8ffc-4e7a-f88f-222a70c83fed"
      },
      "execution_count": null,
      "outputs": [
        {
          "output_type": "stream",
          "name": "stdout",
          "text": [
            "                           Total Energy        Delta E     RMS |[F,P]|\n",
            "    Total Energy =                        -74.9617284312669199\n"
          ]
        }
      ]
    },
    {
      "cell_type": "markdown",
      "source": [
        "#### 3.3.2　PsiAPI形式での計算を実行してみよう"
      ],
      "metadata": {
        "id": "pEJhoihn0KXd"
      }
    },
    {
      "cell_type": "code",
      "source": [
        "# 計算ログファイルの設定\n",
        "psi4.set_output_file('h2o_psiapi.log')"
      ],
      "metadata": {
        "colab": {
          "base_uri": "https://localhost:8080/"
        },
        "id": "gNFnuRCr0PIr",
        "outputId": "f4a550ae-28e9-45d9-da2a-95ab281412f5"
      },
      "execution_count": null,
      "outputs": [
        {
          "output_type": "execute_result",
          "data": {
            "text/plain": [
              "PosixPath('h2o_psiapi.log')"
            ]
          },
          "metadata": {},
          "execution_count": 27
        }
      ]
    },
    {
      "cell_type": "code",
      "source": [
        "# 水分子の構造定義\n",
        "h2o = psi4.geometry('''\n",
        "0 1\n",
        "O       -0.1176269719      0.7387773605      0.0000000000\n",
        "H        0.8523730281      0.7387773605      0.0000000000\n",
        "H       -0.4409567836      1.4770262439     -0.5397651517\n",
        "''')"
      ],
      "metadata": {
        "id": "89O4ZveK1KaL"
      },
      "execution_count": null,
      "outputs": []
    },
    {
      "cell_type": "code",
      "source": [
        "# エネルギー計算の実行\n",
        "psi4.energy('hf/sto-3g', molecule=h2o)"
      ],
      "metadata": {
        "colab": {
          "base_uri": "https://localhost:8080/"
        },
        "id": "mkdU016KxHmI",
        "outputId": "5963de38-25c5-404b-a69d-cb011ce46653"
      },
      "execution_count": null,
      "outputs": [
        {
          "output_type": "stream",
          "name": "stderr",
          "text": [
            "INFO:psi4.driver.task_planner:PLANNING Atomic:  keywords={'function_kwargs': {}}\n",
            "INFO:psi4.driver.driver:Compute energy(): method=hf, basis=sto-3g, molecule=default, nre=9.062772525153836\n",
            "INFO:psi4.driver.driver:Return energy(): -74.96172843126848\n"
          ]
        },
        {
          "output_type": "execute_result",
          "data": {
            "text/plain": [
              "-74.96172843126848"
            ]
          },
          "metadata": {},
          "execution_count": 29
        }
      ]
    },
    {
      "cell_type": "code",
      "source": [],
      "metadata": {
        "id": "DEFeKdIL1dNy"
      },
      "execution_count": null,
      "outputs": []
    }
  ]
}